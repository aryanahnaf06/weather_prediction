{
  "cells": [
    {
      "cell_type": "markdown",
      "metadata": {
        "papermill": {
          "duration": 0.040669,
          "end_time": "2021-03-05T11:14:54.279412",
          "exception": false,
          "start_time": "2021-03-05T11:14:54.238743",
          "status": "completed"
        },
        "tags": [],
        "id": "FpiZ2E8vx7Vx"
      },
      "source": [
        "## Weather forecasting using LSTM"
      ]
    },
    {
      "cell_type": "code",
      "execution_count": null,
      "metadata": {
        "execution": {
          "iopub.execute_input": "2021-03-05T11:14:54.514744Z",
          "iopub.status.busy": "2021-03-05T11:14:54.513683Z",
          "iopub.status.idle": "2021-03-05T11:14:55.456395Z",
          "shell.execute_reply": "2021-03-05T11:14:55.455607Z"
        },
        "papermill": {
          "duration": 0.987559,
          "end_time": "2021-03-05T11:14:55.456647",
          "exception": false,
          "start_time": "2021-03-05T11:14:54.469088",
          "status": "completed"
        },
        "tags": [],
        "id": "N9OPpmbXx7Vz"
      },
      "outputs": [],
      "source": [
        "import pandas as pd\n",
        "import pandas as pd\n",
        "import numpy as np\n",
        "import seaborn as sns\n",
        "import matplotlib.pyplot as plt\n",
        "%matplotlib inline\n",
        "\n",
        "import warnings\n",
        "warnings.filterwarnings('ignore')"
      ]
    },
    {
      "cell_type": "code",
      "execution_count": null,
      "metadata": {
        "execution": {
          "iopub.execute_input": "2021-03-05T11:14:55.540314Z",
          "iopub.status.busy": "2021-03-05T11:14:55.539522Z",
          "iopub.status.idle": "2021-03-05T11:14:55.905447Z",
          "shell.execute_reply": "2021-03-05T11:14:55.905980Z"
        },
        "papermill": {
          "duration": 0.40912,
          "end_time": "2021-03-05T11:14:55.906153",
          "exception": false,
          "start_time": "2021-03-05T11:14:55.497033",
          "status": "completed"
        },
        "tags": [],
        "colab": {
          "base_uri": "https://localhost:8080/",
          "height": 206
        },
        "id": "ebPOy4ALx7Vz",
        "outputId": "134b7f5e-5886-400d-e7ed-a8f0e66a4a6a"
      },
      "outputs": [
        {
          "output_type": "execute_result",
          "data": {
            "text/plain": [
              "     datetime_utc  _conds   _dewptm   _fog   _hail   _heatindexm   _hum  \\\n",
              "0  19961101-11:00   Smoke       9.0      0       0           NaN   27.0   \n",
              "1  19961101-12:00   Smoke      10.0      0       0           NaN   32.0   \n",
              "2  19961101-13:00   Smoke      11.0      0       0           NaN   44.0   \n",
              "3  19961101-14:00   Smoke      10.0      0       0           NaN   41.0   \n",
              "4  19961101-16:00   Smoke      11.0      0       0           NaN   47.0   \n",
              "\n",
              "    _precipm   _pressurem   _rain   _snow   _tempm   _thunder   _tornado  \\\n",
              "0        NaN       1010.0       0       0     30.0          0          0   \n",
              "1        NaN      -9999.0       0       0     28.0          0          0   \n",
              "2        NaN      -9999.0       0       0     24.0          0          0   \n",
              "3        NaN       1010.0       0       0     24.0          0          0   \n",
              "4        NaN       1011.0       0       0     23.0          0          0   \n",
              "\n",
              "    _vism   _wdird  _wdire   _wgustm   _windchillm   _wspdm  \n",
              "0     5.0    280.0    West       NaN           NaN      7.4  \n",
              "1     NaN      0.0   North       NaN           NaN      NaN  \n",
              "2     NaN      0.0   North       NaN           NaN      NaN  \n",
              "3     2.0      0.0   North       NaN           NaN      NaN  \n",
              "4     1.2      0.0   North       NaN           NaN      0.0  "
            ],
            "text/html": [
              "\n",
              "  <div id=\"df-5e433519-0de5-46f2-85c9-8f19d738f9ba\" class=\"colab-df-container\">\n",
              "    <div>\n",
              "<style scoped>\n",
              "    .dataframe tbody tr th:only-of-type {\n",
              "        vertical-align: middle;\n",
              "    }\n",
              "\n",
              "    .dataframe tbody tr th {\n",
              "        vertical-align: top;\n",
              "    }\n",
              "\n",
              "    .dataframe thead th {\n",
              "        text-align: right;\n",
              "    }\n",
              "</style>\n",
              "<table border=\"1\" class=\"dataframe\">\n",
              "  <thead>\n",
              "    <tr style=\"text-align: right;\">\n",
              "      <th></th>\n",
              "      <th>datetime_utc</th>\n",
              "      <th>_conds</th>\n",
              "      <th>_dewptm</th>\n",
              "      <th>_fog</th>\n",
              "      <th>_hail</th>\n",
              "      <th>_heatindexm</th>\n",
              "      <th>_hum</th>\n",
              "      <th>_precipm</th>\n",
              "      <th>_pressurem</th>\n",
              "      <th>_rain</th>\n",
              "      <th>_snow</th>\n",
              "      <th>_tempm</th>\n",
              "      <th>_thunder</th>\n",
              "      <th>_tornado</th>\n",
              "      <th>_vism</th>\n",
              "      <th>_wdird</th>\n",
              "      <th>_wdire</th>\n",
              "      <th>_wgustm</th>\n",
              "      <th>_windchillm</th>\n",
              "      <th>_wspdm</th>\n",
              "    </tr>\n",
              "  </thead>\n",
              "  <tbody>\n",
              "    <tr>\n",
              "      <th>0</th>\n",
              "      <td>19961101-11:00</td>\n",
              "      <td>Smoke</td>\n",
              "      <td>9.0</td>\n",
              "      <td>0</td>\n",
              "      <td>0</td>\n",
              "      <td>NaN</td>\n",
              "      <td>27.0</td>\n",
              "      <td>NaN</td>\n",
              "      <td>1010.0</td>\n",
              "      <td>0</td>\n",
              "      <td>0</td>\n",
              "      <td>30.0</td>\n",
              "      <td>0</td>\n",
              "      <td>0</td>\n",
              "      <td>5.0</td>\n",
              "      <td>280.0</td>\n",
              "      <td>West</td>\n",
              "      <td>NaN</td>\n",
              "      <td>NaN</td>\n",
              "      <td>7.4</td>\n",
              "    </tr>\n",
              "    <tr>\n",
              "      <th>1</th>\n",
              "      <td>19961101-12:00</td>\n",
              "      <td>Smoke</td>\n",
              "      <td>10.0</td>\n",
              "      <td>0</td>\n",
              "      <td>0</td>\n",
              "      <td>NaN</td>\n",
              "      <td>32.0</td>\n",
              "      <td>NaN</td>\n",
              "      <td>-9999.0</td>\n",
              "      <td>0</td>\n",
              "      <td>0</td>\n",
              "      <td>28.0</td>\n",
              "      <td>0</td>\n",
              "      <td>0</td>\n",
              "      <td>NaN</td>\n",
              "      <td>0.0</td>\n",
              "      <td>North</td>\n",
              "      <td>NaN</td>\n",
              "      <td>NaN</td>\n",
              "      <td>NaN</td>\n",
              "    </tr>\n",
              "    <tr>\n",
              "      <th>2</th>\n",
              "      <td>19961101-13:00</td>\n",
              "      <td>Smoke</td>\n",
              "      <td>11.0</td>\n",
              "      <td>0</td>\n",
              "      <td>0</td>\n",
              "      <td>NaN</td>\n",
              "      <td>44.0</td>\n",
              "      <td>NaN</td>\n",
              "      <td>-9999.0</td>\n",
              "      <td>0</td>\n",
              "      <td>0</td>\n",
              "      <td>24.0</td>\n",
              "      <td>0</td>\n",
              "      <td>0</td>\n",
              "      <td>NaN</td>\n",
              "      <td>0.0</td>\n",
              "      <td>North</td>\n",
              "      <td>NaN</td>\n",
              "      <td>NaN</td>\n",
              "      <td>NaN</td>\n",
              "    </tr>\n",
              "    <tr>\n",
              "      <th>3</th>\n",
              "      <td>19961101-14:00</td>\n",
              "      <td>Smoke</td>\n",
              "      <td>10.0</td>\n",
              "      <td>0</td>\n",
              "      <td>0</td>\n",
              "      <td>NaN</td>\n",
              "      <td>41.0</td>\n",
              "      <td>NaN</td>\n",
              "      <td>1010.0</td>\n",
              "      <td>0</td>\n",
              "      <td>0</td>\n",
              "      <td>24.0</td>\n",
              "      <td>0</td>\n",
              "      <td>0</td>\n",
              "      <td>2.0</td>\n",
              "      <td>0.0</td>\n",
              "      <td>North</td>\n",
              "      <td>NaN</td>\n",
              "      <td>NaN</td>\n",
              "      <td>NaN</td>\n",
              "    </tr>\n",
              "    <tr>\n",
              "      <th>4</th>\n",
              "      <td>19961101-16:00</td>\n",
              "      <td>Smoke</td>\n",
              "      <td>11.0</td>\n",
              "      <td>0</td>\n",
              "      <td>0</td>\n",
              "      <td>NaN</td>\n",
              "      <td>47.0</td>\n",
              "      <td>NaN</td>\n",
              "      <td>1011.0</td>\n",
              "      <td>0</td>\n",
              "      <td>0</td>\n",
              "      <td>23.0</td>\n",
              "      <td>0</td>\n",
              "      <td>0</td>\n",
              "      <td>1.2</td>\n",
              "      <td>0.0</td>\n",
              "      <td>North</td>\n",
              "      <td>NaN</td>\n",
              "      <td>NaN</td>\n",
              "      <td>0.0</td>\n",
              "    </tr>\n",
              "  </tbody>\n",
              "</table>\n",
              "</div>\n",
              "    <div class=\"colab-df-buttons\">\n",
              "\n",
              "  <div class=\"colab-df-container\">\n",
              "    <button class=\"colab-df-convert\" onclick=\"convertToInteractive('df-5e433519-0de5-46f2-85c9-8f19d738f9ba')\"\n",
              "            title=\"Convert this dataframe to an interactive table.\"\n",
              "            style=\"display:none;\">\n",
              "\n",
              "  <svg xmlns=\"http://www.w3.org/2000/svg\" height=\"24px\" viewBox=\"0 -960 960 960\">\n",
              "    <path d=\"M120-120v-720h720v720H120Zm60-500h600v-160H180v160Zm220 220h160v-160H400v160Zm0 220h160v-160H400v160ZM180-400h160v-160H180v160Zm440 0h160v-160H620v160ZM180-180h160v-160H180v160Zm440 0h160v-160H620v160Z\"/>\n",
              "  </svg>\n",
              "    </button>\n",
              "\n",
              "  <style>\n",
              "    .colab-df-container {\n",
              "      display:flex;\n",
              "      gap: 12px;\n",
              "    }\n",
              "\n",
              "    .colab-df-convert {\n",
              "      background-color: #E8F0FE;\n",
              "      border: none;\n",
              "      border-radius: 50%;\n",
              "      cursor: pointer;\n",
              "      display: none;\n",
              "      fill: #1967D2;\n",
              "      height: 32px;\n",
              "      padding: 0 0 0 0;\n",
              "      width: 32px;\n",
              "    }\n",
              "\n",
              "    .colab-df-convert:hover {\n",
              "      background-color: #E2EBFA;\n",
              "      box-shadow: 0px 1px 2px rgba(60, 64, 67, 0.3), 0px 1px 3px 1px rgba(60, 64, 67, 0.15);\n",
              "      fill: #174EA6;\n",
              "    }\n",
              "\n",
              "    .colab-df-buttons div {\n",
              "      margin-bottom: 4px;\n",
              "    }\n",
              "\n",
              "    [theme=dark] .colab-df-convert {\n",
              "      background-color: #3B4455;\n",
              "      fill: #D2E3FC;\n",
              "    }\n",
              "\n",
              "    [theme=dark] .colab-df-convert:hover {\n",
              "      background-color: #434B5C;\n",
              "      box-shadow: 0px 1px 3px 1px rgba(0, 0, 0, 0.15);\n",
              "      filter: drop-shadow(0px 1px 2px rgba(0, 0, 0, 0.3));\n",
              "      fill: #FFFFFF;\n",
              "    }\n",
              "  </style>\n",
              "\n",
              "    <script>\n",
              "      const buttonEl =\n",
              "        document.querySelector('#df-5e433519-0de5-46f2-85c9-8f19d738f9ba button.colab-df-convert');\n",
              "      buttonEl.style.display =\n",
              "        google.colab.kernel.accessAllowed ? 'block' : 'none';\n",
              "\n",
              "      async function convertToInteractive(key) {\n",
              "        const element = document.querySelector('#df-5e433519-0de5-46f2-85c9-8f19d738f9ba');\n",
              "        const dataTable =\n",
              "          await google.colab.kernel.invokeFunction('convertToInteractive',\n",
              "                                                    [key], {});\n",
              "        if (!dataTable) return;\n",
              "\n",
              "        const docLinkHtml = 'Like what you see? Visit the ' +\n",
              "          '<a target=\"_blank\" href=https://colab.research.google.com/notebooks/data_table.ipynb>data table notebook</a>'\n",
              "          + ' to learn more about interactive tables.';\n",
              "        element.innerHTML = '';\n",
              "        dataTable['output_type'] = 'display_data';\n",
              "        await google.colab.output.renderOutput(dataTable, element);\n",
              "        const docLink = document.createElement('div');\n",
              "        docLink.innerHTML = docLinkHtml;\n",
              "        element.appendChild(docLink);\n",
              "      }\n",
              "    </script>\n",
              "  </div>\n",
              "\n",
              "\n",
              "<div id=\"df-913a9899-aa89-41fc-9950-3cf1e947e6ea\">\n",
              "  <button class=\"colab-df-quickchart\" onclick=\"quickchart('df-913a9899-aa89-41fc-9950-3cf1e947e6ea')\"\n",
              "            title=\"Suggest charts\"\n",
              "            style=\"display:none;\">\n",
              "\n",
              "<svg xmlns=\"http://www.w3.org/2000/svg\" height=\"24px\"viewBox=\"0 0 24 24\"\n",
              "     width=\"24px\">\n",
              "    <g>\n",
              "        <path d=\"M19 3H5c-1.1 0-2 .9-2 2v14c0 1.1.9 2 2 2h14c1.1 0 2-.9 2-2V5c0-1.1-.9-2-2-2zM9 17H7v-7h2v7zm4 0h-2V7h2v10zm4 0h-2v-4h2v4z\"/>\n",
              "    </g>\n",
              "</svg>\n",
              "  </button>\n",
              "\n",
              "<style>\n",
              "  .colab-df-quickchart {\n",
              "      --bg-color: #E8F0FE;\n",
              "      --fill-color: #1967D2;\n",
              "      --hover-bg-color: #E2EBFA;\n",
              "      --hover-fill-color: #174EA6;\n",
              "      --disabled-fill-color: #AAA;\n",
              "      --disabled-bg-color: #DDD;\n",
              "  }\n",
              "\n",
              "  [theme=dark] .colab-df-quickchart {\n",
              "      --bg-color: #3B4455;\n",
              "      --fill-color: #D2E3FC;\n",
              "      --hover-bg-color: #434B5C;\n",
              "      --hover-fill-color: #FFFFFF;\n",
              "      --disabled-bg-color: #3B4455;\n",
              "      --disabled-fill-color: #666;\n",
              "  }\n",
              "\n",
              "  .colab-df-quickchart {\n",
              "    background-color: var(--bg-color);\n",
              "    border: none;\n",
              "    border-radius: 50%;\n",
              "    cursor: pointer;\n",
              "    display: none;\n",
              "    fill: var(--fill-color);\n",
              "    height: 32px;\n",
              "    padding: 0;\n",
              "    width: 32px;\n",
              "  }\n",
              "\n",
              "  .colab-df-quickchart:hover {\n",
              "    background-color: var(--hover-bg-color);\n",
              "    box-shadow: 0 1px 2px rgba(60, 64, 67, 0.3), 0 1px 3px 1px rgba(60, 64, 67, 0.15);\n",
              "    fill: var(--button-hover-fill-color);\n",
              "  }\n",
              "\n",
              "  .colab-df-quickchart-complete:disabled,\n",
              "  .colab-df-quickchart-complete:disabled:hover {\n",
              "    background-color: var(--disabled-bg-color);\n",
              "    fill: var(--disabled-fill-color);\n",
              "    box-shadow: none;\n",
              "  }\n",
              "\n",
              "  .colab-df-spinner {\n",
              "    border: 2px solid var(--fill-color);\n",
              "    border-color: transparent;\n",
              "    border-bottom-color: var(--fill-color);\n",
              "    animation:\n",
              "      spin 1s steps(1) infinite;\n",
              "  }\n",
              "\n",
              "  @keyframes spin {\n",
              "    0% {\n",
              "      border-color: transparent;\n",
              "      border-bottom-color: var(--fill-color);\n",
              "      border-left-color: var(--fill-color);\n",
              "    }\n",
              "    20% {\n",
              "      border-color: transparent;\n",
              "      border-left-color: var(--fill-color);\n",
              "      border-top-color: var(--fill-color);\n",
              "    }\n",
              "    30% {\n",
              "      border-color: transparent;\n",
              "      border-left-color: var(--fill-color);\n",
              "      border-top-color: var(--fill-color);\n",
              "      border-right-color: var(--fill-color);\n",
              "    }\n",
              "    40% {\n",
              "      border-color: transparent;\n",
              "      border-right-color: var(--fill-color);\n",
              "      border-top-color: var(--fill-color);\n",
              "    }\n",
              "    60% {\n",
              "      border-color: transparent;\n",
              "      border-right-color: var(--fill-color);\n",
              "    }\n",
              "    80% {\n",
              "      border-color: transparent;\n",
              "      border-right-color: var(--fill-color);\n",
              "      border-bottom-color: var(--fill-color);\n",
              "    }\n",
              "    90% {\n",
              "      border-color: transparent;\n",
              "      border-bottom-color: var(--fill-color);\n",
              "    }\n",
              "  }\n",
              "</style>\n",
              "\n",
              "  <script>\n",
              "    async function quickchart(key) {\n",
              "      const quickchartButtonEl =\n",
              "        document.querySelector('#' + key + ' button');\n",
              "      quickchartButtonEl.disabled = true;  // To prevent multiple clicks.\n",
              "      quickchartButtonEl.classList.add('colab-df-spinner');\n",
              "      try {\n",
              "        const charts = await google.colab.kernel.invokeFunction(\n",
              "            'suggestCharts', [key], {});\n",
              "      } catch (error) {\n",
              "        console.error('Error during call to suggestCharts:', error);\n",
              "      }\n",
              "      quickchartButtonEl.classList.remove('colab-df-spinner');\n",
              "      quickchartButtonEl.classList.add('colab-df-quickchart-complete');\n",
              "    }\n",
              "    (() => {\n",
              "      let quickchartButtonEl =\n",
              "        document.querySelector('#df-913a9899-aa89-41fc-9950-3cf1e947e6ea button');\n",
              "      quickchartButtonEl.style.display =\n",
              "        google.colab.kernel.accessAllowed ? 'block' : 'none';\n",
              "    })();\n",
              "  </script>\n",
              "</div>\n",
              "\n",
              "    </div>\n",
              "  </div>\n"
            ],
            "application/vnd.google.colaboratory.intrinsic+json": {
              "type": "dataframe",
              "variable_name": "df",
              "summary": "{\n  \"name\": \"df\",\n  \"rows\": 61940,\n  \"fields\": [\n    {\n      \"column\": \"datetime_utc\",\n      \"properties\": {\n        \"dtype\": \"object\",\n        \"num_unique_values\": 61940,\n        \"samples\": [\n          \"20010602-22:30\",\n          \"20031230-08:30\",\n          \"20010529-07:30\"\n        ],\n        \"semantic_type\": \"\",\n        \"description\": \"\"\n      }\n    },\n    {\n      \"column\": \" _conds\",\n      \"properties\": {\n        \"dtype\": \"category\",\n        \"num_unique_values\": 32,\n        \"samples\": [\n          \"Light Rain Showers\",\n          \"Drizzle\",\n          \"Sandstorm\"\n        ],\n        \"semantic_type\": \"\",\n        \"description\": \"\"\n      }\n    },\n    {\n      \"column\": \" _dewptm\",\n      \"properties\": {\n        \"dtype\": \"number\",\n        \"std\": 7.189391039685734,\n        \"min\": -24.0,\n        \"max\": 75.0,\n        \"num_unique_values\": 48,\n        \"samples\": [\n          19.0,\n          33.0,\n          18.0\n        ],\n        \"semantic_type\": \"\",\n        \"description\": \"\"\n      }\n    },\n    {\n      \"column\": \" _fog\",\n      \"properties\": {\n        \"dtype\": \"number\",\n        \"std\": 0,\n        \"min\": 0,\n        \"max\": 1,\n        \"num_unique_values\": 2,\n        \"samples\": [\n          1,\n          0\n        ],\n        \"semantic_type\": \"\",\n        \"description\": \"\"\n      }\n    },\n    {\n      \"column\": \" _hail\",\n      \"properties\": {\n        \"dtype\": \"number\",\n        \"std\": 0,\n        \"min\": 0,\n        \"max\": 1,\n        \"num_unique_values\": 2,\n        \"samples\": [\n          1,\n          0\n        ],\n        \"semantic_type\": \"\",\n        \"description\": \"\"\n      }\n    },\n    {\n      \"column\": \" _heatindexm\",\n      \"properties\": {\n        \"dtype\": \"number\",\n        \"std\": 4.925896110281733,\n        \"min\": 26.8,\n        \"max\": 73.6,\n        \"num_unique_values\": 193,\n        \"samples\": [\n          30.2,\n          49.7\n        ],\n        \"semantic_type\": \"\",\n        \"description\": \"\"\n      }\n    },\n    {\n      \"column\": \" _hum\",\n      \"properties\": {\n        \"dtype\": \"number\",\n        \"std\": 23.408983276379427,\n        \"min\": 4.0,\n        \"max\": 225.0,\n        \"num_unique_values\": 94,\n        \"samples\": [\n          21.0,\n          33.0\n        ],\n        \"semantic_type\": \"\",\n        \"description\": \"\"\n      }\n    },\n    {\n      \"column\": \" _precipm\",\n      \"properties\": {\n        \"dtype\": \"number\",\n        \"std\": null,\n        \"min\": null,\n        \"max\": null,\n        \"num_unique_values\": 0,\n        \"samples\": [],\n        \"semantic_type\": \"\",\n        \"description\": \"\"\n      }\n    },\n    {\n      \"column\": \" _pressurem\",\n      \"properties\": {\n        \"dtype\": \"number\",\n        \"std\": 406090.28630251146,\n        \"min\": -9999.0,\n        \"max\": 101061443.0,\n        \"num_unique_values\": 119,\n        \"samples\": [],\n        \"semantic_type\": \"\",\n        \"description\": \"\"\n      }\n    },\n    {\n      \"column\": \" _rain\",\n      \"properties\": {\n        \"dtype\": \"number\",\n        \"std\": 0,\n        \"min\": 0,\n        \"max\": 1,\n        \"num_unique_values\": 2,\n        \"samples\": [],\n        \"semantic_type\": \"\",\n        \"description\": \"\"\n      }\n    },\n    {\n      \"column\": \" _snow\",\n      \"properties\": {\n        \"dtype\": \"number\",\n        \"std\": 0,\n        \"min\": 0,\n        \"max\": 0,\n        \"num_unique_values\": 1,\n        \"samples\": [],\n        \"semantic_type\": \"\",\n        \"description\": \"\"\n      }\n    },\n    {\n      \"column\": \" _tempm\",\n      \"properties\": {\n        \"dtype\": \"number\",\n        \"std\": 8.554319675223239,\n        \"min\": 3.0,\n        \"max\": 72.0,\n        \"num_unique_values\": 47,\n        \"samples\": [],\n        \"semantic_type\": \"\",\n        \"description\": \"\"\n      }\n    },\n    {\n      \"column\": \" _thunder\",\n      \"properties\": {\n        \"dtype\": \"number\",\n        \"std\": 0,\n        \"min\": 0,\n        \"max\": 1,\n        \"num_unique_values\": 2,\n        \"samples\": [],\n        \"semantic_type\": \"\",\n        \"description\": \"\"\n      }\n    },\n    {\n      \"column\": \" _tornado\",\n      \"properties\": {\n        \"dtype\": \"number\",\n        \"std\": 0,\n        \"min\": 0,\n        \"max\": 1,\n        \"num_unique_values\": 2,\n        \"samples\": [],\n        \"semantic_type\": \"\",\n        \"description\": \"\"\n      }\n    },\n    {\n      \"column\": \" _vism\",\n      \"properties\": {\n        \"dtype\": \"number\",\n        \"std\": 26.83843092012236,\n        \"min\": 0.0,\n        \"max\": 6436.0,\n        \"num_unique_values\": 42,\n        \"samples\": [],\n        \"semantic_type\": \"\",\n        \"description\": \"\"\n      }\n    },\n    {\n      \"column\": \" _wdird\",\n      \"properties\": {\n        \"dtype\": \"number\",\n        \"std\": 120.9161237447196,\n        \"min\": 0.0,\n        \"max\": 960.0,\n        \"num_unique_values\": 62,\n        \"samples\": [],\n        \"semantic_type\": \"\",\n        \"description\": \"\"\n      }\n    },\n    {\n      \"column\": \" _wdire\",\n      \"properties\": {\n        \"dtype\": \"category\",\n        \"num_unique_values\": 17,\n        \"samples\": [],\n        \"semantic_type\": \"\",\n        \"description\": \"\"\n      }\n    },\n    {\n      \"column\": \" _wgustm\",\n      \"properties\": {\n        \"dtype\": \"number\",\n        \"std\": 6.876394584342271,\n        \"min\": 25.9,\n        \"max\": 92.6,\n        \"num_unique_values\": 22,\n        \"samples\": [],\n        \"semantic_type\": \"\",\n        \"description\": \"\"\n      }\n    },\n    {\n      \"column\": \" _windchillm\",\n      \"properties\": {\n        \"dtype\": \"number\",\n        \"std\": 1.2047276833567644,\n        \"min\": 2.1,\n        \"max\": 7.3,\n        \"num_unique_values\": 20,\n        \"samples\": [],\n        \"semantic_type\": \"\",\n        \"description\": \"\"\n      }\n    },\n    {\n      \"column\": \" _wspdm\",\n      \"properties\": {\n        \"dtype\": \"number\",\n        \"std\": 13.571513876181367,\n        \"min\": 0.0,\n        \"max\": 1514.9,\n        \"num_unique_values\": 55,\n        \"samples\": [],\n        \"semantic_type\": \"\",\n        \"description\": \"\"\n      }\n    }\n  ]\n}"
            }
          },
          "metadata": {},
          "execution_count": 2
        }
      ],
      "source": [
        "df= pd.read_csv('testset.csv')\n",
        "df.head()"
      ]
    },
    {
      "cell_type": "code",
      "execution_count": null,
      "metadata": {
        "execution": {
          "iopub.execute_input": "2021-03-05T11:14:56.010804Z",
          "iopub.status.busy": "2021-03-05T11:14:56.009103Z",
          "iopub.status.idle": "2021-03-05T11:14:56.039290Z",
          "shell.execute_reply": "2021-03-05T11:14:56.038512Z"
        },
        "papermill": {
          "duration": 0.094255,
          "end_time": "2021-03-05T11:14:56.039444",
          "exception": false,
          "start_time": "2021-03-05T11:14:55.945189",
          "status": "completed"
        },
        "scrolled": false,
        "tags": [],
        "id": "dOirfaV1x7V0"
      },
      "outputs": [],
      "source": [
        "data = pd.DataFrame(list(df[' _tempm']), index=df['datetime_utc'], columns=['temp'])"
      ]
    },
    {
      "cell_type": "code",
      "execution_count": null,
      "metadata": {
        "execution": {
          "iopub.execute_input": "2021-03-05T11:14:56.132440Z",
          "iopub.status.busy": "2021-03-05T11:14:56.131387Z",
          "iopub.status.idle": "2021-03-05T11:14:56.136045Z",
          "shell.execute_reply": "2021-03-05T11:14:56.135479Z"
        },
        "papermill": {
          "duration": 0.056596,
          "end_time": "2021-03-05T11:14:56.136191",
          "exception": false,
          "start_time": "2021-03-05T11:14:56.079595",
          "status": "completed"
        },
        "tags": [],
        "colab": {
          "base_uri": "https://localhost:8080/",
          "height": 455
        },
        "id": "gY0hXmuxx7V0",
        "outputId": "11343e5a-c76a-4d67-b508-164afa8c1cbf"
      },
      "outputs": [
        {
          "output_type": "execute_result",
          "data": {
            "text/plain": [
              "                temp\n",
              "datetime_utc        \n",
              "19961101-11:00  30.0\n",
              "19961101-12:00  28.0\n",
              "19961101-13:00  24.0\n",
              "19961101-14:00  24.0\n",
              "19961101-16:00  23.0\n",
              "...              ...\n",
              "20041115-00:00  13.0\n",
              "20041115-03:00  16.0\n",
              "20041115-06:00  24.0\n",
              "20041115-09:00  28.0\n",
              "20041115-12:00  25.0\n",
              "\n",
              "[61940 rows x 1 columns]"
            ],
            "text/html": [
              "\n",
              "  <div id=\"df-339eb989-2a94-4cf0-b44e-1595e16bf20f\" class=\"colab-df-container\">\n",
              "    <div>\n",
              "<style scoped>\n",
              "    .dataframe tbody tr th:only-of-type {\n",
              "        vertical-align: middle;\n",
              "    }\n",
              "\n",
              "    .dataframe tbody tr th {\n",
              "        vertical-align: top;\n",
              "    }\n",
              "\n",
              "    .dataframe thead th {\n",
              "        text-align: right;\n",
              "    }\n",
              "</style>\n",
              "<table border=\"1\" class=\"dataframe\">\n",
              "  <thead>\n",
              "    <tr style=\"text-align: right;\">\n",
              "      <th></th>\n",
              "      <th>temp</th>\n",
              "    </tr>\n",
              "    <tr>\n",
              "      <th>datetime_utc</th>\n",
              "      <th></th>\n",
              "    </tr>\n",
              "  </thead>\n",
              "  <tbody>\n",
              "    <tr>\n",
              "      <th>19961101-11:00</th>\n",
              "      <td>30.0</td>\n",
              "    </tr>\n",
              "    <tr>\n",
              "      <th>19961101-12:00</th>\n",
              "      <td>28.0</td>\n",
              "    </tr>\n",
              "    <tr>\n",
              "      <th>19961101-13:00</th>\n",
              "      <td>24.0</td>\n",
              "    </tr>\n",
              "    <tr>\n",
              "      <th>19961101-14:00</th>\n",
              "      <td>24.0</td>\n",
              "    </tr>\n",
              "    <tr>\n",
              "      <th>19961101-16:00</th>\n",
              "      <td>23.0</td>\n",
              "    </tr>\n",
              "    <tr>\n",
              "      <th>...</th>\n",
              "      <td>...</td>\n",
              "    </tr>\n",
              "    <tr>\n",
              "      <th>20041115-00:00</th>\n",
              "      <td>13.0</td>\n",
              "    </tr>\n",
              "    <tr>\n",
              "      <th>20041115-03:00</th>\n",
              "      <td>16.0</td>\n",
              "    </tr>\n",
              "    <tr>\n",
              "      <th>20041115-06:00</th>\n",
              "      <td>24.0</td>\n",
              "    </tr>\n",
              "    <tr>\n",
              "      <th>20041115-09:00</th>\n",
              "      <td>28.0</td>\n",
              "    </tr>\n",
              "    <tr>\n",
              "      <th>20041115-12:00</th>\n",
              "      <td>25.0</td>\n",
              "    </tr>\n",
              "  </tbody>\n",
              "</table>\n",
              "<p>61940 rows × 1 columns</p>\n",
              "</div>\n",
              "    <div class=\"colab-df-buttons\">\n",
              "\n",
              "  <div class=\"colab-df-container\">\n",
              "    <button class=\"colab-df-convert\" onclick=\"convertToInteractive('df-339eb989-2a94-4cf0-b44e-1595e16bf20f')\"\n",
              "            title=\"Convert this dataframe to an interactive table.\"\n",
              "            style=\"display:none;\">\n",
              "\n",
              "  <svg xmlns=\"http://www.w3.org/2000/svg\" height=\"24px\" viewBox=\"0 -960 960 960\">\n",
              "    <path d=\"M120-120v-720h720v720H120Zm60-500h600v-160H180v160Zm220 220h160v-160H400v160Zm0 220h160v-160H400v160ZM180-400h160v-160H180v160Zm440 0h160v-160H620v160ZM180-180h160v-160H180v160Zm440 0h160v-160H620v160Z\"/>\n",
              "  </svg>\n",
              "    </button>\n",
              "\n",
              "  <style>\n",
              "    .colab-df-container {\n",
              "      display:flex;\n",
              "      gap: 12px;\n",
              "    }\n",
              "\n",
              "    .colab-df-convert {\n",
              "      background-color: #E8F0FE;\n",
              "      border: none;\n",
              "      border-radius: 50%;\n",
              "      cursor: pointer;\n",
              "      display: none;\n",
              "      fill: #1967D2;\n",
              "      height: 32px;\n",
              "      padding: 0 0 0 0;\n",
              "      width: 32px;\n",
              "    }\n",
              "\n",
              "    .colab-df-convert:hover {\n",
              "      background-color: #E2EBFA;\n",
              "      box-shadow: 0px 1px 2px rgba(60, 64, 67, 0.3), 0px 1px 3px 1px rgba(60, 64, 67, 0.15);\n",
              "      fill: #174EA6;\n",
              "    }\n",
              "\n",
              "    .colab-df-buttons div {\n",
              "      margin-bottom: 4px;\n",
              "    }\n",
              "\n",
              "    [theme=dark] .colab-df-convert {\n",
              "      background-color: #3B4455;\n",
              "      fill: #D2E3FC;\n",
              "    }\n",
              "\n",
              "    [theme=dark] .colab-df-convert:hover {\n",
              "      background-color: #434B5C;\n",
              "      box-shadow: 0px 1px 3px 1px rgba(0, 0, 0, 0.15);\n",
              "      filter: drop-shadow(0px 1px 2px rgba(0, 0, 0, 0.3));\n",
              "      fill: #FFFFFF;\n",
              "    }\n",
              "  </style>\n",
              "\n",
              "    <script>\n",
              "      const buttonEl =\n",
              "        document.querySelector('#df-339eb989-2a94-4cf0-b44e-1595e16bf20f button.colab-df-convert');\n",
              "      buttonEl.style.display =\n",
              "        google.colab.kernel.accessAllowed ? 'block' : 'none';\n",
              "\n",
              "      async function convertToInteractive(key) {\n",
              "        const element = document.querySelector('#df-339eb989-2a94-4cf0-b44e-1595e16bf20f');\n",
              "        const dataTable =\n",
              "          await google.colab.kernel.invokeFunction('convertToInteractive',\n",
              "                                                    [key], {});\n",
              "        if (!dataTable) return;\n",
              "\n",
              "        const docLinkHtml = 'Like what you see? Visit the ' +\n",
              "          '<a target=\"_blank\" href=https://colab.research.google.com/notebooks/data_table.ipynb>data table notebook</a>'\n",
              "          + ' to learn more about interactive tables.';\n",
              "        element.innerHTML = '';\n",
              "        dataTable['output_type'] = 'display_data';\n",
              "        await google.colab.output.renderOutput(dataTable, element);\n",
              "        const docLink = document.createElement('div');\n",
              "        docLink.innerHTML = docLinkHtml;\n",
              "        element.appendChild(docLink);\n",
              "      }\n",
              "    </script>\n",
              "  </div>\n",
              "\n",
              "\n",
              "<div id=\"df-eb8865b2-a686-4ace-a0fe-3f099a17ea8e\">\n",
              "  <button class=\"colab-df-quickchart\" onclick=\"quickchart('df-eb8865b2-a686-4ace-a0fe-3f099a17ea8e')\"\n",
              "            title=\"Suggest charts\"\n",
              "            style=\"display:none;\">\n",
              "\n",
              "<svg xmlns=\"http://www.w3.org/2000/svg\" height=\"24px\"viewBox=\"0 0 24 24\"\n",
              "     width=\"24px\">\n",
              "    <g>\n",
              "        <path d=\"M19 3H5c-1.1 0-2 .9-2 2v14c0 1.1.9 2 2 2h14c1.1 0 2-.9 2-2V5c0-1.1-.9-2-2-2zM9 17H7v-7h2v7zm4 0h-2V7h2v10zm4 0h-2v-4h2v4z\"/>\n",
              "    </g>\n",
              "</svg>\n",
              "  </button>\n",
              "\n",
              "<style>\n",
              "  .colab-df-quickchart {\n",
              "      --bg-color: #E8F0FE;\n",
              "      --fill-color: #1967D2;\n",
              "      --hover-bg-color: #E2EBFA;\n",
              "      --hover-fill-color: #174EA6;\n",
              "      --disabled-fill-color: #AAA;\n",
              "      --disabled-bg-color: #DDD;\n",
              "  }\n",
              "\n",
              "  [theme=dark] .colab-df-quickchart {\n",
              "      --bg-color: #3B4455;\n",
              "      --fill-color: #D2E3FC;\n",
              "      --hover-bg-color: #434B5C;\n",
              "      --hover-fill-color: #FFFFFF;\n",
              "      --disabled-bg-color: #3B4455;\n",
              "      --disabled-fill-color: #666;\n",
              "  }\n",
              "\n",
              "  .colab-df-quickchart {\n",
              "    background-color: var(--bg-color);\n",
              "    border: none;\n",
              "    border-radius: 50%;\n",
              "    cursor: pointer;\n",
              "    display: none;\n",
              "    fill: var(--fill-color);\n",
              "    height: 32px;\n",
              "    padding: 0;\n",
              "    width: 32px;\n",
              "  }\n",
              "\n",
              "  .colab-df-quickchart:hover {\n",
              "    background-color: var(--hover-bg-color);\n",
              "    box-shadow: 0 1px 2px rgba(60, 64, 67, 0.3), 0 1px 3px 1px rgba(60, 64, 67, 0.15);\n",
              "    fill: var(--button-hover-fill-color);\n",
              "  }\n",
              "\n",
              "  .colab-df-quickchart-complete:disabled,\n",
              "  .colab-df-quickchart-complete:disabled:hover {\n",
              "    background-color: var(--disabled-bg-color);\n",
              "    fill: var(--disabled-fill-color);\n",
              "    box-shadow: none;\n",
              "  }\n",
              "\n",
              "  .colab-df-spinner {\n",
              "    border: 2px solid var(--fill-color);\n",
              "    border-color: transparent;\n",
              "    border-bottom-color: var(--fill-color);\n",
              "    animation:\n",
              "      spin 1s steps(1) infinite;\n",
              "  }\n",
              "\n",
              "  @keyframes spin {\n",
              "    0% {\n",
              "      border-color: transparent;\n",
              "      border-bottom-color: var(--fill-color);\n",
              "      border-left-color: var(--fill-color);\n",
              "    }\n",
              "    20% {\n",
              "      border-color: transparent;\n",
              "      border-left-color: var(--fill-color);\n",
              "      border-top-color: var(--fill-color);\n",
              "    }\n",
              "    30% {\n",
              "      border-color: transparent;\n",
              "      border-left-color: var(--fill-color);\n",
              "      border-top-color: var(--fill-color);\n",
              "      border-right-color: var(--fill-color);\n",
              "    }\n",
              "    40% {\n",
              "      border-color: transparent;\n",
              "      border-right-color: var(--fill-color);\n",
              "      border-top-color: var(--fill-color);\n",
              "    }\n",
              "    60% {\n",
              "      border-color: transparent;\n",
              "      border-right-color: var(--fill-color);\n",
              "    }\n",
              "    80% {\n",
              "      border-color: transparent;\n",
              "      border-right-color: var(--fill-color);\n",
              "      border-bottom-color: var(--fill-color);\n",
              "    }\n",
              "    90% {\n",
              "      border-color: transparent;\n",
              "      border-bottom-color: var(--fill-color);\n",
              "    }\n",
              "  }\n",
              "</style>\n",
              "\n",
              "  <script>\n",
              "    async function quickchart(key) {\n",
              "      const quickchartButtonEl =\n",
              "        document.querySelector('#' + key + ' button');\n",
              "      quickchartButtonEl.disabled = true;  // To prevent multiple clicks.\n",
              "      quickchartButtonEl.classList.add('colab-df-spinner');\n",
              "      try {\n",
              "        const charts = await google.colab.kernel.invokeFunction(\n",
              "            'suggestCharts', [key], {});\n",
              "      } catch (error) {\n",
              "        console.error('Error during call to suggestCharts:', error);\n",
              "      }\n",
              "      quickchartButtonEl.classList.remove('colab-df-spinner');\n",
              "      quickchartButtonEl.classList.add('colab-df-quickchart-complete');\n",
              "    }\n",
              "    (() => {\n",
              "      let quickchartButtonEl =\n",
              "        document.querySelector('#df-eb8865b2-a686-4ace-a0fe-3f099a17ea8e button');\n",
              "      quickchartButtonEl.style.display =\n",
              "        google.colab.kernel.accessAllowed ? 'block' : 'none';\n",
              "    })();\n",
              "  </script>\n",
              "</div>\n",
              "\n",
              "  <div id=\"id_a6639d0a-863a-4069-8e46-cf93085c6c66\">\n",
              "    <style>\n",
              "      .colab-df-generate {\n",
              "        background-color: #E8F0FE;\n",
              "        border: none;\n",
              "        border-radius: 50%;\n",
              "        cursor: pointer;\n",
              "        display: none;\n",
              "        fill: #1967D2;\n",
              "        height: 32px;\n",
              "        padding: 0 0 0 0;\n",
              "        width: 32px;\n",
              "      }\n",
              "\n",
              "      .colab-df-generate:hover {\n",
              "        background-color: #E2EBFA;\n",
              "        box-shadow: 0px 1px 2px rgba(60, 64, 67, 0.3), 0px 1px 3px 1px rgba(60, 64, 67, 0.15);\n",
              "        fill: #174EA6;\n",
              "      }\n",
              "\n",
              "      [theme=dark] .colab-df-generate {\n",
              "        background-color: #3B4455;\n",
              "        fill: #D2E3FC;\n",
              "      }\n",
              "\n",
              "      [theme=dark] .colab-df-generate:hover {\n",
              "        background-color: #434B5C;\n",
              "        box-shadow: 0px 1px 3px 1px rgba(0, 0, 0, 0.15);\n",
              "        filter: drop-shadow(0px 1px 2px rgba(0, 0, 0, 0.3));\n",
              "        fill: #FFFFFF;\n",
              "      }\n",
              "    </style>\n",
              "    <button class=\"colab-df-generate\" onclick=\"generateWithVariable('data')\"\n",
              "            title=\"Generate code using this dataframe.\"\n",
              "            style=\"display:none;\">\n",
              "\n",
              "  <svg xmlns=\"http://www.w3.org/2000/svg\" height=\"24px\"viewBox=\"0 0 24 24\"\n",
              "       width=\"24px\">\n",
              "    <path d=\"M7,19H8.4L18.45,9,17,7.55,7,17.6ZM5,21V16.75L18.45,3.32a2,2,0,0,1,2.83,0l1.4,1.43a1.91,1.91,0,0,1,.58,1.4,1.91,1.91,0,0,1-.58,1.4L9.25,21ZM18.45,9,17,7.55Zm-12,3A5.31,5.31,0,0,0,4.9,8.1,5.31,5.31,0,0,0,1,6.5,5.31,5.31,0,0,0,4.9,4.9,5.31,5.31,0,0,0,6.5,1,5.31,5.31,0,0,0,8.1,4.9,5.31,5.31,0,0,0,12,6.5,5.46,5.46,0,0,0,6.5,12Z\"/>\n",
              "  </svg>\n",
              "    </button>\n",
              "    <script>\n",
              "      (() => {\n",
              "      const buttonEl =\n",
              "        document.querySelector('#id_a6639d0a-863a-4069-8e46-cf93085c6c66 button.colab-df-generate');\n",
              "      buttonEl.style.display =\n",
              "        google.colab.kernel.accessAllowed ? 'block' : 'none';\n",
              "\n",
              "      buttonEl.onclick = () => {\n",
              "        google.colab.notebook.generateWithVariable('data');\n",
              "      }\n",
              "      })();\n",
              "    </script>\n",
              "  </div>\n",
              "\n",
              "    </div>\n",
              "  </div>\n"
            ],
            "application/vnd.google.colaboratory.intrinsic+json": {
              "type": "dataframe",
              "variable_name": "data",
              "summary": "{\n  \"name\": \"data\",\n  \"rows\": 61940,\n  \"fields\": [\n    {\n      \"column\": \"datetime_utc\",\n      \"properties\": {\n        \"dtype\": \"object\",\n        \"num_unique_values\": 61940,\n        \"samples\": [\n          \"20010602-22:30\",\n          \"20031230-08:30\",\n          \"20010529-07:30\"\n        ],\n        \"semantic_type\": \"\",\n        \"description\": \"\"\n      }\n    },\n    {\n      \"column\": \"temp\",\n      \"properties\": {\n        \"dtype\": \"number\",\n        \"std\": 8.554319675223239,\n        \"min\": 3.0,\n        \"max\": 72.0,\n        \"num_unique_values\": 47,\n        \"samples\": [\n          5.0,\n          43.0,\n          6.0\n        ],\n        \"semantic_type\": \"\",\n        \"description\": \"\"\n      }\n    }\n  ]\n}"
            }
          },
          "metadata": {},
          "execution_count": 4
        }
      ],
      "source": [
        "data"
      ]
    },
    {
      "source": [
        "from matplotlib import pyplot as plt\n",
        "data['temp'].plot(kind='line', figsize=(8, 4), title='temp')\n",
        "plt.gca().spines[['top', 'right']].set_visible(False)"
      ],
      "cell_type": "code",
      "metadata": {
        "colab": {
          "base_uri": "https://localhost:8080/",
          "height": 410
        },
        "id": "fiyc56xbz57q",
        "outputId": "dc1d2d2c-67dd-4040-cb91-895bc234a02c"
      },
      "execution_count": null,
      "outputs": [
        {
          "output_type": "display_data",
          "data": {
            "text/plain": [
              "<Figure size 800x400 with 1 Axes>"
            ],
            "image/png": "[encoded data removed]"
          },
          "metadata": {}
        }
      ]
    },
    {
      "cell_type": "markdown",
      "metadata": {
        "papermill": {
          "duration": 0.040226,
          "end_time": "2021-03-05T11:14:56.216638",
          "exception": false,
          "start_time": "2021-03-05T11:14:56.176412",
          "status": "completed"
        },
        "tags": [],
        "id": "9e1Lz_5ex7V0"
      },
      "source": [
        "We are using only data for 365 days"
      ]
    },
    {
      "cell_type": "code",
      "execution_count": null,
      "metadata": {
        "execution": {
          "iopub.execute_input": "2021-03-05T11:14:56.305365Z",
          "iopub.status.busy": "2021-03-05T11:14:56.304617Z",
          "iopub.status.idle": "2021-03-05T11:14:56.307935Z",
          "shell.execute_reply": "2021-03-05T11:14:56.307391Z"
        },
        "papermill": {
          "duration": 0.051869,
          "end_time": "2021-03-05T11:14:56.308091",
          "exception": false,
          "start_time": "2021-03-05T11:14:56.256222",
          "status": "completed"
        },
        "tags": [],
        "id": "QJ6Se2FRx7V0"
      },
      "outputs": [],
      "source": [
        "df=data[:365]"
      ]
    },
    {
      "cell_type": "code",
      "execution_count": null,
      "metadata": {
        "execution": {
          "iopub.execute_input": "2021-03-05T11:14:56.394003Z",
          "iopub.status.busy": "2021-03-05T11:14:56.393007Z",
          "iopub.status.idle": "2021-03-05T11:14:56.397446Z",
          "shell.execute_reply": "2021-03-05T11:14:56.396808Z"
        },
        "papermill": {
          "duration": 0.049053,
          "end_time": "2021-03-05T11:14:56.397598",
          "exception": false,
          "start_time": "2021-03-05T11:14:56.348545",
          "status": "completed"
        },
        "scrolled": true,
        "tags": [],
        "colab": {
          "base_uri": "https://localhost:8080/"
        },
        "id": "eMENBeVzx7V0",
        "outputId": "290ef46d-822d-46d4-f8fc-ce098334a8c9"
      },
      "outputs": [
        {
          "output_type": "execute_result",
          "data": {
            "text/plain": [
              "(365, 1)"
            ]
          },
          "metadata": {},
          "execution_count": 7
        }
      ],
      "source": [
        "df.shape"
      ]
    },
    {
      "cell_type": "code",
      "execution_count": null,
      "metadata": {
        "execution": {
          "iopub.execute_input": "2021-03-05T11:14:56.485988Z",
          "iopub.status.busy": "2021-03-05T11:14:56.485129Z",
          "iopub.status.idle": "2021-03-05T11:14:56.489920Z",
          "shell.execute_reply": "2021-03-05T11:14:56.489339Z"
        },
        "papermill": {
          "duration": 0.052278,
          "end_time": "2021-03-05T11:14:56.490064",
          "exception": false,
          "start_time": "2021-03-05T11:14:56.437786",
          "status": "completed"
        },
        "tags": [],
        "colab": {
          "base_uri": "https://localhost:8080/"
        },
        "id": "hgYPgEIEx7V0",
        "outputId": "24e7300e-60da-47b2-de72-bcfee88cd275"
      },
      "outputs": [
        {
          "output_type": "execute_result",
          "data": {
            "text/plain": [
              "temp    3\n",
              "dtype: int64"
            ]
          },
          "metadata": {},
          "execution_count": 8
        }
      ],
      "source": [
        "df.isnull().sum()"
      ]
    },
    {
      "cell_type": "code",
      "execution_count": null,
      "metadata": {
        "execution": {
          "iopub.execute_input": "2021-03-05T11:14:56.578185Z",
          "iopub.status.busy": "2021-03-05T11:14:56.577269Z",
          "iopub.status.idle": "2021-03-05T11:14:56.600354Z",
          "shell.execute_reply": "2021-03-05T11:14:56.600842Z"
        },
        "papermill": {
          "duration": 0.06986,
          "end_time": "2021-03-05T11:14:56.601089",
          "exception": false,
          "start_time": "2021-03-05T11:14:56.531229",
          "status": "completed"
        },
        "tags": [],
        "id": "83vqBdTMx7V1"
      },
      "outputs": [],
      "source": [
        "df=df.dropna(axis=0)"
      ]
    },
    {
      "cell_type": "code",
      "execution_count": null,
      "metadata": {
        "execution": {
          "iopub.execute_input": "2021-03-05T11:14:56.689632Z",
          "iopub.status.busy": "2021-03-05T11:14:56.688654Z",
          "iopub.status.idle": "2021-03-05T11:14:56.693613Z",
          "shell.execute_reply": "2021-03-05T11:14:56.694101Z"
        },
        "papermill": {
          "duration": 0.050573,
          "end_time": "2021-03-05T11:14:56.694287",
          "exception": false,
          "start_time": "2021-03-05T11:14:56.643714",
          "status": "completed"
        },
        "tags": [],
        "colab": {
          "base_uri": "https://localhost:8080/"
        },
        "id": "hEo6fLE7x7V1",
        "outputId": "a535400e-b2e1-4ba8-95ea-d467a9b6e58b"
      },
      "outputs": [
        {
          "output_type": "execute_result",
          "data": {
            "text/plain": [
              "(362, 1)"
            ]
          },
          "metadata": {},
          "execution_count": 10
        }
      ],
      "source": [
        "df.shape"
      ]
    },
    {
      "cell_type": "code",
      "execution_count": null,
      "metadata": {
        "execution": {
          "iopub.execute_input": "2021-03-05T11:14:56.782339Z",
          "iopub.status.busy": "2021-03-05T11:14:56.781267Z",
          "iopub.status.idle": "2021-03-05T11:14:56.786937Z",
          "shell.execute_reply": "2021-03-05T11:14:56.786250Z"
        },
        "papermill": {
          "duration": 0.050401,
          "end_time": "2021-03-05T11:14:56.787137",
          "exception": false,
          "start_time": "2021-03-05T11:14:56.736736",
          "status": "completed"
        },
        "tags": [],
        "id": "9g2bZ7kRx7V1"
      },
      "outputs": [],
      "source": [
        "df=df['temp'].values"
      ]
    },
    {
      "cell_type": "code",
      "execution_count": null,
      "metadata": {
        "execution": {
          "iopub.execute_input": "2021-03-05T11:14:56.883362Z",
          "iopub.status.busy": "2021-03-05T11:14:56.882572Z",
          "iopub.status.idle": "2021-03-05T11:14:56.886418Z",
          "shell.execute_reply": "2021-03-05T11:14:56.886963Z"
        },
        "papermill": {
          "duration": 0.053956,
          "end_time": "2021-03-05T11:14:56.887143",
          "exception": false,
          "start_time": "2021-03-05T11:14:56.833187",
          "status": "completed"
        },
        "tags": [],
        "colab": {
          "base_uri": "https://localhost:8080/"
        },
        "id": "C1lr5Iy4x7V1",
        "outputId": "0137a6fe-95e6-42ba-dfba-e900545981f9"
      },
      "outputs": [
        {
          "output_type": "execute_result",
          "data": {
            "text/plain": [
              "array([30., 28., 24., 24., 23.])"
            ]
          },
          "metadata": {},
          "execution_count": 12
        }
      ],
      "source": [
        "df[:5]"
      ]
    },
    {
      "cell_type": "code",
      "execution_count": null,
      "metadata": {
        "execution": {
          "iopub.execute_input": "2021-03-05T11:14:56.984410Z",
          "iopub.status.busy": "2021-03-05T11:14:56.983270Z",
          "iopub.status.idle": "2021-03-05T11:14:56.993319Z",
          "shell.execute_reply": "2021-03-05T11:14:56.994157Z"
        },
        "papermill": {
          "duration": 0.0639,
          "end_time": "2021-03-05T11:14:56.994482",
          "exception": false,
          "start_time": "2021-03-05T11:14:56.930582",
          "status": "completed"
        },
        "tags": [],
        "id": "M4X_aXnSx7V1"
      },
      "outputs": [],
      "source": [
        "df=df.reshape(-1,1)"
      ]
    },
    {
      "cell_type": "code",
      "execution_count": null,
      "metadata": {
        "execution": {
          "iopub.execute_input": "2021-03-05T11:14:57.123719Z",
          "iopub.status.busy": "2021-03-05T11:14:57.122203Z",
          "iopub.status.idle": "2021-03-05T11:14:57.353224Z",
          "shell.execute_reply": "2021-03-05T11:14:57.352657Z"
        },
        "papermill": {
          "duration": 0.30178,
          "end_time": "2021-03-05T11:14:57.353367",
          "exception": false,
          "start_time": "2021-03-05T11:14:57.051587",
          "status": "completed"
        },
        "tags": [],
        "colab": {
          "base_uri": "https://localhost:8080/",
          "height": 539
        },
        "id": "sY7EMXwHx7V1",
        "outputId": "dc025787-476a-41d7-bc47-e16ccc56fc35"
      },
      "outputs": [
        {
          "output_type": "display_data",
          "data": {
            "text/plain": [
              "<Figure size 2500x700 with 1 Axes>"
            ],
            "image/png": "[encoded data removed]"
          },
          "metadata": {}
        }
      ],
      "source": [
        "plt.figure(figsize=(25, 7))\n",
        "plt.plot(df, linewidth=1)\n",
        "# plt.grid()\n",
        "plt.title(\"Time Series (temperature month wise for 1 year)\")\n",
        "plt.show()"
      ]
    },
    {
      "cell_type": "markdown",
      "metadata": {
        "papermill": {
          "duration": 0.043563,
          "end_time": "2021-03-05T11:14:57.441375",
          "exception": false,
          "start_time": "2021-03-05T11:14:57.397812",
          "status": "completed"
        },
        "tags": [],
        "id": "zQjMLbWHx7V1"
      },
      "source": [
        "#### Scaling data"
      ]
    },
    {
      "cell_type": "code",
      "execution_count": null,
      "metadata": {
        "execution": {
          "iopub.execute_input": "2021-03-05T11:14:57.535894Z",
          "iopub.status.busy": "2021-03-05T11:14:57.535188Z",
          "iopub.status.idle": "2021-03-05T11:14:57.799478Z",
          "shell.execute_reply": "2021-03-05T11:14:57.800058Z"
        },
        "papermill": {
          "duration": 0.313972,
          "end_time": "2021-03-05T11:14:57.800237",
          "exception": false,
          "start_time": "2021-03-05T11:14:57.486265",
          "status": "completed"
        },
        "tags": [],
        "id": "cZEiaCQox7V2"
      },
      "outputs": [],
      "source": [
        "from sklearn.preprocessing import MinMaxScaler\n",
        "scaler = MinMaxScaler(feature_range=(0, 1))\n",
        "data_scaled = scaler.fit_transform(df)"
      ]
    },
    {
      "cell_type": "code",
      "execution_count": null,
      "metadata": {
        "execution": {
          "iopub.execute_input": "2021-03-05T11:14:57.892090Z",
          "iopub.status.busy": "2021-03-05T11:14:57.891377Z",
          "iopub.status.idle": "2021-03-05T11:14:57.896336Z",
          "shell.execute_reply": "2021-03-05T11:14:57.896954Z"
        },
        "papermill": {
          "duration": 0.052649,
          "end_time": "2021-03-05T11:14:57.897123",
          "exception": false,
          "start_time": "2021-03-05T11:14:57.844474",
          "status": "completed"
        },
        "tags": [],
        "colab": {
          "base_uri": "https://localhost:8080/"
        },
        "id": "oBZclhuYx7V2",
        "outputId": "af057e63-ab57-48e2-fe35-cbe7c2a041d8"
      },
      "outputs": [
        {
          "output_type": "execute_result",
          "data": {
            "text/plain": [
              "array([[0.83333333],\n",
              "       [0.75      ],\n",
              "       [0.58333333],\n",
              "       [0.58333333],\n",
              "       [0.54166667]])"
            ]
          },
          "metadata": {},
          "execution_count": 16
        }
      ],
      "source": [
        "data_scaled[:5]"
      ]
    },
    {
      "cell_type": "code",
      "execution_count": null,
      "metadata": {
        "execution": {
          "iopub.execute_input": "2021-03-05T11:14:57.989811Z",
          "iopub.status.busy": "2021-03-05T11:14:57.989192Z",
          "iopub.status.idle": "2021-03-05T11:14:57.995215Z",
          "shell.execute_reply": "2021-03-05T11:14:57.994623Z"
        },
        "papermill": {
          "duration": 0.053716,
          "end_time": "2021-03-05T11:14:57.995384",
          "exception": false,
          "start_time": "2021-03-05T11:14:57.941668",
          "status": "completed"
        },
        "tags": [],
        "colab": {
          "base_uri": "https://localhost:8080/"
        },
        "id": "m9R5kIADx7V2",
        "outputId": "534692d2-82ab-4fab-b751-4c31d9b56460"
      },
      "outputs": [
        {
          "output_type": "execute_result",
          "data": {
            "text/plain": [
              "(362, 1)"
            ]
          },
          "metadata": {},
          "execution_count": 17
        }
      ],
      "source": [
        "data_scaled.shape"
      ]
    },
    {
      "cell_type": "code",
      "execution_count": null,
      "metadata": {
        "papermill": {
          "duration": 0.045756,
          "end_time": "2021-03-05T11:14:58.087263",
          "exception": false,
          "start_time": "2021-03-05T11:14:58.041507",
          "status": "completed"
        },
        "tags": [],
        "id": "m4rhiVX9x7V2"
      },
      "outputs": [],
      "source": []
    },
    {
      "cell_type": "code",
      "execution_count": null,
      "metadata": {
        "execution": {
          "iopub.execute_input": "2021-03-05T11:14:58.185280Z",
          "iopub.status.busy": "2021-03-05T11:14:58.184505Z",
          "iopub.status.idle": "2021-03-05T11:14:58.186643Z",
          "shell.execute_reply": "2021-03-05T11:14:58.187207Z"
        },
        "papermill": {
          "duration": 0.055344,
          "end_time": "2021-03-05T11:14:58.187377",
          "exception": false,
          "start_time": "2021-03-05T11:14:58.132033",
          "status": "completed"
        },
        "tags": [],
        "id": "1_pOgUPex7V2"
      },
      "outputs": [],
      "source": [
        "steps= 20\n",
        "inp = []\n",
        "out = []\n",
        "for i in range(len(data_scaled) - (steps)):\n",
        "    inp.append(data_scaled[i:i+steps])\n",
        "    out.append(data_scaled[i+steps])"
      ]
    },
    {
      "cell_type": "code",
      "execution_count": null,
      "metadata": {
        "papermill": {
          "duration": 0.044853,
          "end_time": "2021-03-05T11:14:58.277989",
          "exception": false,
          "start_time": "2021-03-05T11:14:58.233136",
          "status": "completed"
        },
        "tags": [],
        "id": "rCCWw1Ydx7V2"
      },
      "outputs": [],
      "source": []
    },
    {
      "cell_type": "code",
      "execution_count": null,
      "metadata": {
        "execution": {
          "iopub.execute_input": "2021-03-05T11:14:58.371933Z",
          "iopub.status.busy": "2021-03-05T11:14:58.371308Z",
          "iopub.status.idle": "2021-03-05T11:14:58.377291Z",
          "shell.execute_reply": "2021-03-05T11:14:58.377821Z"
        },
        "papermill": {
          "duration": 0.054612,
          "end_time": "2021-03-05T11:14:58.378009",
          "exception": false,
          "start_time": "2021-03-05T11:14:58.323397",
          "status": "completed"
        },
        "tags": [],
        "colab": {
          "base_uri": "https://localhost:8080/"
        },
        "id": "ITWrqDynx7V2",
        "outputId": "4582ec35-adb1-4b1a-ca2a-13c7893301ae"
      },
      "outputs": [
        {
          "output_type": "execute_result",
          "data": {
            "text/plain": [
              "[array([0.875]),\n",
              " array([0.875]),\n",
              " array([0.875]),\n",
              " array([0.83333333]),\n",
              " array([0.70833333]),\n",
              " array([0.625]),\n",
              " array([0.5]),\n",
              " array([0.45833333]),\n",
              " array([0.375]),\n",
              " array([0.41666667])]"
            ]
          },
          "metadata": {},
          "execution_count": 19
        }
      ],
      "source": [
        "out[:10]"
      ]
    },
    {
      "cell_type": "markdown",
      "metadata": {
        "papermill": {
          "duration": 0.046093,
          "end_time": "2021-03-05T11:14:58.469653",
          "exception": false,
          "start_time": "2021-03-05T11:14:58.423560",
          "status": "completed"
        },
        "tags": [],
        "id": "lDinjsTCx7V2"
      },
      "source": [
        "reshape"
      ]
    },
    {
      "cell_type": "code",
      "execution_count": null,
      "metadata": {
        "execution": {
          "iopub.execute_input": "2021-03-05T11:14:58.564653Z",
          "iopub.status.busy": "2021-03-05T11:14:58.563977Z",
          "iopub.status.idle": "2021-03-05T11:14:58.567445Z",
          "shell.execute_reply": "2021-03-05T11:14:58.567999Z"
        },
        "papermill": {
          "duration": 0.052449,
          "end_time": "2021-03-05T11:14:58.568178",
          "exception": false,
          "start_time": "2021-03-05T11:14:58.515729",
          "status": "completed"
        },
        "tags": [],
        "id": "pOPb_j3Lx7V2"
      },
      "outputs": [],
      "source": [
        "import numpy as np"
      ]
    },
    {
      "cell_type": "code",
      "execution_count": null,
      "metadata": {
        "execution": {
          "iopub.execute_input": "2021-03-05T11:14:58.663813Z",
          "iopub.status.busy": "2021-03-05T11:14:58.663146Z",
          "iopub.status.idle": "2021-03-05T11:14:58.667589Z",
          "shell.execute_reply": "2021-03-05T11:14:58.668124Z"
        },
        "papermill": {
          "duration": 0.054314,
          "end_time": "2021-03-05T11:14:58.668298",
          "exception": false,
          "start_time": "2021-03-05T11:14:58.613984",
          "status": "completed"
        },
        "tags": [],
        "id": "-5gbL7UAx7V2"
      },
      "outputs": [],
      "source": [
        "inp= np.asanyarray(inp)\n",
        "out= np.asanyarray(out)"
      ]
    },
    {
      "cell_type": "code",
      "execution_count": null,
      "metadata": {
        "papermill": {
          "duration": 0.045271,
          "end_time": "2021-03-05T11:14:58.759292",
          "exception": false,
          "start_time": "2021-03-05T11:14:58.714021",
          "status": "completed"
        },
        "tags": [],
        "id": "wnV7JbVKx7V2"
      },
      "outputs": [],
      "source": []
    },
    {
      "cell_type": "code",
      "execution_count": null,
      "metadata": {
        "execution": {
          "iopub.execute_input": "2021-03-05T11:14:58.853784Z",
          "iopub.status.busy": "2021-03-05T11:14:58.853189Z",
          "iopub.status.idle": "2021-03-05T11:14:58.857592Z",
          "shell.execute_reply": "2021-03-05T11:14:58.858197Z"
        },
        "papermill": {
          "duration": 0.05334,
          "end_time": "2021-03-05T11:14:58.858365",
          "exception": false,
          "start_time": "2021-03-05T11:14:58.805025",
          "status": "completed"
        },
        "tags": [],
        "colab": {
          "base_uri": "https://localhost:8080/"
        },
        "id": "gGYY7f_Vx7V3",
        "outputId": "fad90064-820c-4598-8b86-9ecc3c2596cb"
      },
      "outputs": [
        {
          "output_type": "execute_result",
          "data": {
            "text/plain": [
              "235.3"
            ]
          },
          "metadata": {},
          "execution_count": 22
        }
      ],
      "source": [
        "len(df)*0.65"
      ]
    },
    {
      "cell_type": "code",
      "execution_count": null,
      "metadata": {
        "execution": {
          "iopub.execute_input": "2021-03-05T11:14:58.953960Z",
          "iopub.status.busy": "2021-03-05T11:14:58.953278Z",
          "iopub.status.idle": "2021-03-05T11:14:58.957556Z",
          "shell.execute_reply": "2021-03-05T11:14:58.958113Z"
        },
        "papermill": {
          "duration": 0.053707,
          "end_time": "2021-03-05T11:14:58.958292",
          "exception": false,
          "start_time": "2021-03-05T11:14:58.904585",
          "status": "completed"
        },
        "tags": [],
        "id": "YNTIWBGCx7V3"
      },
      "outputs": [],
      "source": [
        "x_train = inp[:237,:,:]\n",
        "x_test = inp[237:,:,:]\n",
        "y_train = out[:237]\n",
        "y_test= out[237:]"
      ]
    },
    {
      "cell_type": "code",
      "execution_count": null,
      "metadata": {
        "execution": {
          "iopub.execute_input": "2021-03-05T11:14:59.055643Z",
          "iopub.status.busy": "2021-03-05T11:14:59.055038Z",
          "iopub.status.idle": "2021-03-05T11:14:59.059716Z",
          "shell.execute_reply": "2021-03-05T11:14:59.060284Z"
        },
        "papermill": {
          "duration": 0.054388,
          "end_time": "2021-03-05T11:14:59.060459",
          "exception": false,
          "start_time": "2021-03-05T11:14:59.006071",
          "status": "completed"
        },
        "tags": [],
        "colab": {
          "base_uri": "https://localhost:8080/"
        },
        "id": "AP_czZdHx7V3",
        "outputId": "455cb94c-240b-486b-b2e7-18fd40312e1d"
      },
      "outputs": [
        {
          "output_type": "execute_result",
          "data": {
            "text/plain": [
              "(342, 20, 1)"
            ]
          },
          "metadata": {},
          "execution_count": 24
        }
      ],
      "source": [
        "inp.shape"
      ]
    },
    {
      "cell_type": "code",
      "execution_count": null,
      "metadata": {
        "execution": {
          "iopub.execute_input": "2021-03-05T11:14:59.158122Z",
          "iopub.status.busy": "2021-03-05T11:14:59.157436Z",
          "iopub.status.idle": "2021-03-05T11:14:59.162099Z",
          "shell.execute_reply": "2021-03-05T11:14:59.162608Z"
        },
        "papermill": {
          "duration": 0.05527,
          "end_time": "2021-03-05T11:14:59.162783",
          "exception": false,
          "start_time": "2021-03-05T11:14:59.107513",
          "status": "completed"
        },
        "tags": [],
        "colab": {
          "base_uri": "https://localhost:8080/"
        },
        "id": "RiSPp4-hx7V3",
        "outputId": "081d419c-9671-4c3a-80e5-c1257b6486e0"
      },
      "outputs": [
        {
          "output_type": "execute_result",
          "data": {
            "text/plain": [
              "(237, 20, 1)"
            ]
          },
          "metadata": {},
          "execution_count": 25
        }
      ],
      "source": [
        "x_train.shape"
      ]
    },
    {
      "cell_type": "code",
      "execution_count": null,
      "metadata": {
        "execution": {
          "iopub.execute_input": "2021-03-05T11:14:59.262976Z",
          "iopub.status.busy": "2021-03-05T11:14:59.262039Z",
          "iopub.status.idle": "2021-03-05T11:14:59.267203Z",
          "shell.execute_reply": "2021-03-05T11:14:59.267695Z"
        },
        "papermill": {
          "duration": 0.056435,
          "end_time": "2021-03-05T11:14:59.267897",
          "exception": false,
          "start_time": "2021-03-05T11:14:59.211462",
          "status": "completed"
        },
        "tags": [],
        "colab": {
          "base_uri": "https://localhost:8080/"
        },
        "id": "ehhSO62Hx7V3",
        "outputId": "d6c0b388-cf38-4162-cb73-c7dc8cce93a2"
      },
      "outputs": [
        {
          "output_type": "execute_result",
          "data": {
            "text/plain": [
              "(105, 20, 1)"
            ]
          },
          "metadata": {},
          "execution_count": 26
        }
      ],
      "source": [
        "x_test.shape"
      ]
    },
    {
      "cell_type": "code",
      "execution_count": null,
      "metadata": {
        "papermill": {
          "duration": 0.051811,
          "end_time": "2021-03-05T11:14:59.368485",
          "exception": false,
          "start_time": "2021-03-05T11:14:59.316674",
          "status": "completed"
        },
        "tags": [],
        "id": "OvIrm2Vzx7V3"
      },
      "outputs": [],
      "source": []
    },
    {
      "cell_type": "code",
      "execution_count": null,
      "metadata": {
        "execution": {
          "iopub.execute_input": "2021-03-05T11:14:59.470347Z",
          "iopub.status.busy": "2021-03-05T11:14:59.469677Z",
          "iopub.status.idle": "2021-03-05T11:15:05.555089Z",
          "shell.execute_reply": "2021-03-05T11:15:05.554311Z"
        },
        "papermill": {
          "duration": 6.139083,
          "end_time": "2021-03-05T11:15:05.555588",
          "exception": false,
          "start_time": "2021-03-05T11:14:59.416505",
          "status": "completed"
        },
        "tags": [],
        "id": "0iJSc4Ddx7V3"
      },
      "outputs": [],
      "source": [
        "import matplotlib.pyplot as plt\n",
        "import seaborn as sns\n",
        "from tensorflow.keras.layers import Dense,RepeatVector, LSTM, Dropout\n",
        "from tensorflow.keras.layers import Flatten, Conv1D, MaxPooling1D\n",
        "from tensorflow.keras.layers import Bidirectional, Dropout\n",
        "from tensorflow.keras.models import Sequential\n",
        "from tensorflow.keras.utils import plot_model"
      ]
    },
    {
      "cell_type": "markdown",
      "metadata": {
        "papermill": {
          "duration": 0.04888,
          "end_time": "2021-03-05T11:15:05.655468",
          "exception": false,
          "start_time": "2021-03-05T11:15:05.606588",
          "status": "completed"
        },
        "tags": [],
        "id": "cu8SJUrSx7V4"
      },
      "source": [
        "### Model Building"
      ]
    },
    {
      "cell_type": "code",
      "execution_count": null,
      "metadata": {
        "execution": {
          "iopub.execute_input": "2021-03-05T11:15:05.767569Z",
          "iopub.status.busy": "2021-03-05T11:15:05.766650Z",
          "iopub.status.idle": "2021-03-05T11:15:07.471795Z",
          "shell.execute_reply": "2021-03-05T11:15:07.472348Z"
        },
        "papermill": {
          "duration": 1.76587,
          "end_time": "2021-03-05T11:15:07.472584",
          "exception": false,
          "start_time": "2021-03-05T11:15:05.706714",
          "status": "completed"
        },
        "tags": [],
        "id": "lof4pQpwx7V4"
      },
      "outputs": [],
      "source": [
        "model = Sequential()\n",
        "model.add(LSTM(50, return_sequences= True, input_shape= (20,1)))\n",
        "model.add(LSTM(50, return_sequences=True))\n",
        "model.add(LSTM(50))\n",
        "model.add(Dense(1))\n",
        "model.compile(loss = 'mean_squared_error', optimizer = 'adam')\n",
        "model = Sequential()\n",
        "model.add(LSTM(50, return_sequences= True, input_shape= (20,1)))\n",
        "model.add(LSTM(50, return_sequences=True))\n",
        "model.add(LSTM(50))\n",
        "model.add(Dense(1))\n",
        "model.compile(loss = 'mean_squared_error', optimizer = 'adam')\n",
        "\n",
        "\n",
        "\n",
        "\n",
        "\n"
      ]
    },
    {
      "cell_type": "code",
      "execution_count": null,
      "metadata": {
        "execution": {
          "iopub.execute_input": "2021-03-05T11:15:07.575560Z",
          "iopub.status.busy": "2021-03-05T11:15:07.574530Z",
          "iopub.status.idle": "2021-03-05T11:16:25.418976Z",
          "shell.execute_reply": "2021-03-05T11:16:25.418344Z"
        },
        "papermill": {
          "duration": 77.896396,
          "end_time": "2021-03-05T11:16:25.419139",
          "exception": false,
          "start_time": "2021-03-05T11:15:07.522743",
          "status": "completed"
        },
        "scrolled": true,
        "tags": [],
        "colab": {
          "base_uri": "https://localhost:8080/"
        },
        "id": "KpNzcSAGx7V4",
        "outputId": "a30e8e3a-0fa1-4544-86f4-1a878779fa8b"
      },
      "outputs": [
        {
          "output_type": "stream",
          "name": "stdout",
          "text": [
            "Epoch 1/300\n",
            "8/8 [==============================] - 7s 50ms/step - loss: 0.1799\n",
            "Epoch 2/300\n",
            "8/8 [==============================] - 0s 49ms/step - loss: 0.0735\n",
            "Epoch 3/300\n",
            "8/8 [==============================] - 0s 46ms/step - loss: 0.0651\n",
            "Epoch 4/300\n",
            "8/8 [==============================] - 0s 28ms/step - loss: 0.0502\n",
            "Epoch 5/300\n",
            "8/8 [==============================] - 0s 35ms/step - loss: 0.0519\n",
            "Epoch 6/300\n",
            "8/8 [==============================] - 0s 28ms/step - loss: 0.0484\n",
            "Epoch 7/300\n",
            "8/8 [==============================] - 0s 29ms/step - loss: 0.0473\n",
            "Epoch 8/300\n",
            "8/8 [==============================] - 0s 30ms/step - loss: 0.0465\n",
            "Epoch 9/300\n",
            "8/8 [==============================] - 0s 35ms/step - loss: 0.0454\n",
            "Epoch 10/300\n",
            "8/8 [==============================] - 0s 34ms/step - loss: 0.0443\n",
            "Epoch 11/300\n",
            "8/8 [==============================] - 0s 29ms/step - loss: 0.0431\n",
            "Epoch 12/300\n",
            "8/8 [==============================] - 0s 29ms/step - loss: 0.0422\n",
            "Epoch 13/300\n",
            "8/8 [==============================] - 0s 36ms/step - loss: 0.0403\n",
            "Epoch 14/300\n",
            "8/8 [==============================] - 0s 29ms/step - loss: 0.0377\n",
            "Epoch 15/300\n",
            "8/8 [==============================] - 0s 33ms/step - loss: 0.0382\n",
            "Epoch 16/300\n",
            "8/8 [==============================] - 0s 29ms/step - loss: 0.0297\n",
            "Epoch 17/300\n",
            "8/8 [==============================] - 0s 36ms/step - loss: 0.0231\n",
            "Epoch 18/300\n",
            "8/8 [==============================] - 0s 30ms/step - loss: 0.0223\n",
            "Epoch 19/300\n",
            "8/8 [==============================] - 0s 29ms/step - loss: 0.0197\n",
            "Epoch 20/300\n",
            "8/8 [==============================] - 0s 28ms/step - loss: 0.0183\n",
            "Epoch 21/300\n",
            "8/8 [==============================] - 0s 35ms/step - loss: 0.0189\n",
            "Epoch 22/300\n",
            "8/8 [==============================] - 0s 29ms/step - loss: 0.0202\n",
            "Epoch 23/300\n",
            "8/8 [==============================] - 0s 33ms/step - loss: 0.0216\n",
            "Epoch 24/300\n",
            "8/8 [==============================] - 0s 30ms/step - loss: 0.0212\n",
            "Epoch 25/300\n",
            "8/8 [==============================] - 0s 35ms/step - loss: 0.0157\n",
            "Epoch 26/300\n",
            "8/8 [==============================] - 0s 29ms/step - loss: 0.0137\n",
            "Epoch 27/300\n",
            "8/8 [==============================] - 0s 31ms/step - loss: 0.0137\n",
            "Epoch 28/300\n",
            "8/8 [==============================] - 0s 30ms/step - loss: 0.0124\n",
            "Epoch 29/300\n",
            "8/8 [==============================] - 0s 33ms/step - loss: 0.0119\n",
            "Epoch 30/300\n",
            "8/8 [==============================] - 0s 28ms/step - loss: 0.0125\n",
            "Epoch 31/300\n",
            "8/8 [==============================] - 0s 29ms/step - loss: 0.0115\n",
            "Epoch 32/300\n",
            "8/8 [==============================] - 0s 28ms/step - loss: 0.0097\n",
            "Epoch 33/300\n",
            "8/8 [==============================] - 0s 33ms/step - loss: 0.0095\n",
            "Epoch 34/300\n",
            "8/8 [==============================] - 0s 33ms/step - loss: 0.0098\n",
            "Epoch 35/300\n",
            "8/8 [==============================] - 0s 31ms/step - loss: 0.0106\n",
            "Epoch 36/300\n",
            "8/8 [==============================] - 0s 28ms/step - loss: 0.0099\n",
            "Epoch 37/300\n",
            "8/8 [==============================] - 0s 35ms/step - loss: 0.0091\n",
            "Epoch 38/300\n",
            "8/8 [==============================] - 0s 28ms/step - loss: 0.0097\n",
            "Epoch 39/300\n",
            "8/8 [==============================] - 0s 30ms/step - loss: 0.0089\n",
            "Epoch 40/300\n",
            "8/8 [==============================] - 0s 29ms/step - loss: 0.0081\n",
            "Epoch 41/300\n",
            "8/8 [==============================] - 0s 31ms/step - loss: 0.0085\n",
            "Epoch 42/300\n",
            "8/8 [==============================] - 0s 29ms/step - loss: 0.0082\n",
            "Epoch 43/300\n",
            "8/8 [==============================] - 0s 37ms/step - loss: 0.0077\n",
            "Epoch 44/300\n",
            "8/8 [==============================] - 0s 49ms/step - loss: 0.0083\n",
            "Epoch 45/300\n",
            "8/8 [==============================] - 0s 44ms/step - loss: 0.0083\n",
            "Epoch 46/300\n",
            "8/8 [==============================] - 0s 43ms/step - loss: 0.0079\n",
            "Epoch 47/300\n",
            "8/8 [==============================] - 0s 52ms/step - loss: 0.0075\n",
            "Epoch 48/300\n",
            "8/8 [==============================] - 0s 48ms/step - loss: 0.0078\n",
            "Epoch 49/300\n",
            "8/8 [==============================] - 0s 47ms/step - loss: 0.0070\n",
            "Epoch 50/300\n",
            "8/8 [==============================] - 0s 51ms/step - loss: 0.0074\n",
            "Epoch 51/300\n",
            "8/8 [==============================] - 0s 49ms/step - loss: 0.0070\n",
            "Epoch 52/300\n",
            "8/8 [==============================] - 0s 53ms/step - loss: 0.0071\n",
            "Epoch 53/300\n",
            "8/8 [==============================] - 0s 47ms/step - loss: 0.0070\n",
            "Epoch 54/300\n",
            "8/8 [==============================] - 0s 46ms/step - loss: 0.0090\n",
            "Epoch 55/300\n",
            "8/8 [==============================] - 0s 36ms/step - loss: 0.0072\n",
            "Epoch 56/300\n",
            "8/8 [==============================] - 0s 31ms/step - loss: 0.0071\n",
            "Epoch 57/300\n",
            "8/8 [==============================] - 0s 29ms/step - loss: 0.0068\n",
            "Epoch 58/300\n",
            "8/8 [==============================] - 0s 33ms/step - loss: 0.0064\n",
            "Epoch 59/300\n",
            "8/8 [==============================] - 0s 28ms/step - loss: 0.0067\n",
            "Epoch 60/300\n",
            "8/8 [==============================] - 0s 32ms/step - loss: 0.0081\n",
            "Epoch 61/300\n",
            "8/8 [==============================] - 0s 29ms/step - loss: 0.0073\n",
            "Epoch 62/300\n",
            "8/8 [==============================] - 0s 33ms/step - loss: 0.0072\n",
            "Epoch 63/300\n",
            "8/8 [==============================] - 0s 29ms/step - loss: 0.0062\n",
            "Epoch 64/300\n",
            "8/8 [==============================] - 0s 29ms/step - loss: 0.0061\n",
            "Epoch 65/300\n",
            "8/8 [==============================] - 0s 30ms/step - loss: 0.0061\n",
            "Epoch 66/300\n",
            "8/8 [==============================] - 0s 33ms/step - loss: 0.0060\n",
            "Epoch 67/300\n",
            "8/8 [==============================] - 0s 28ms/step - loss: 0.0058\n",
            "Epoch 68/300\n",
            "8/8 [==============================] - 0s 29ms/step - loss: 0.0058\n",
            "Epoch 69/300\n",
            "8/8 [==============================] - 0s 31ms/step - loss: 0.0057\n",
            "Epoch 70/300\n",
            "8/8 [==============================] - 0s 36ms/step - loss: 0.0062\n",
            "Epoch 71/300\n",
            "8/8 [==============================] - 0s 28ms/step - loss: 0.0059\n",
            "Epoch 72/300\n",
            "8/8 [==============================] - 0s 29ms/step - loss: 0.0057\n",
            "Epoch 73/300\n",
            "8/8 [==============================] - 0s 30ms/step - loss: 0.0056\n",
            "Epoch 74/300\n",
            "8/8 [==============================] - 0s 32ms/step - loss: 0.0058\n",
            "Epoch 75/300\n",
            "8/8 [==============================] - 0s 28ms/step - loss: 0.0061\n",
            "Epoch 76/300\n",
            "8/8 [==============================] - 0s 29ms/step - loss: 0.0057\n",
            "Epoch 77/300\n",
            "8/8 [==============================] - 0s 31ms/step - loss: 0.0057\n",
            "Epoch 78/300\n",
            "8/8 [==============================] - 0s 33ms/step - loss: 0.0056\n",
            "Epoch 79/300\n",
            "8/8 [==============================] - 0s 28ms/step - loss: 0.0055\n",
            "Epoch 80/300\n",
            "8/8 [==============================] - 0s 30ms/step - loss: 0.0053\n",
            "Epoch 81/300\n",
            "8/8 [==============================] - 0s 31ms/step - loss: 0.0049\n",
            "Epoch 82/300\n",
            "8/8 [==============================] - 0s 34ms/step - loss: 0.0051\n",
            "Epoch 83/300\n",
            "8/8 [==============================] - 0s 29ms/step - loss: 0.0054\n",
            "Epoch 84/300\n",
            "8/8 [==============================] - 0s 32ms/step - loss: 0.0049\n",
            "Epoch 85/300\n",
            "8/8 [==============================] - 0s 32ms/step - loss: 0.0075\n",
            "Epoch 86/300\n",
            "8/8 [==============================] - 0s 32ms/step - loss: 0.0063\n",
            "Epoch 87/300\n",
            "8/8 [==============================] - 0s 29ms/step - loss: 0.0052\n",
            "Epoch 88/300\n",
            "8/8 [==============================] - 0s 28ms/step - loss: 0.0053\n",
            "Epoch 89/300\n",
            "8/8 [==============================] - 0s 28ms/step - loss: 0.0052\n",
            "Epoch 90/300\n",
            "8/8 [==============================] - 0s 35ms/step - loss: 0.0044\n",
            "Epoch 91/300\n",
            "8/8 [==============================] - 0s 28ms/step - loss: 0.0046\n",
            "Epoch 92/300\n",
            "8/8 [==============================] - 0s 28ms/step - loss: 0.0048\n",
            "Epoch 93/300\n",
            "8/8 [==============================] - 0s 28ms/step - loss: 0.0051\n",
            "Epoch 94/300\n",
            "8/8 [==============================] - 0s 34ms/step - loss: 0.0050\n",
            "Epoch 95/300\n",
            "8/8 [==============================] - 0s 35ms/step - loss: 0.0046\n",
            "Epoch 96/300\n",
            "8/8 [==============================] - 0s 44ms/step - loss: 0.0042\n",
            "Epoch 97/300\n",
            "8/8 [==============================] - 0s 46ms/step - loss: 0.0042\n",
            "Epoch 98/300\n",
            "8/8 [==============================] - 0s 43ms/step - loss: 0.0050\n",
            "Epoch 99/300\n",
            "8/8 [==============================] - 0s 53ms/step - loss: 0.0041\n",
            "Epoch 100/300\n",
            "8/8 [==============================] - 0s 51ms/step - loss: 0.0042\n",
            "Epoch 101/300\n",
            "8/8 [==============================] - 0s 47ms/step - loss: 0.0038\n",
            "Epoch 102/300\n",
            "8/8 [==============================] - 0s 44ms/step - loss: 0.0040\n",
            "Epoch 103/300\n",
            "8/8 [==============================] - 0s 48ms/step - loss: 0.0040\n",
            "Epoch 104/300\n",
            "8/8 [==============================] - 0s 53ms/step - loss: 0.0046\n",
            "Epoch 105/300\n",
            "8/8 [==============================] - 0s 58ms/step - loss: 0.0049\n",
            "Epoch 106/300\n",
            "8/8 [==============================] - 0s 59ms/step - loss: 0.0068\n",
            "Epoch 107/300\n",
            "8/8 [==============================] - 0s 51ms/step - loss: 0.0055\n",
            "Epoch 108/300\n",
            "8/8 [==============================] - 0s 48ms/step - loss: 0.0058\n",
            "Epoch 109/300\n",
            "8/8 [==============================] - 0s 45ms/step - loss: 0.0047\n",
            "Epoch 110/300\n",
            "8/8 [==============================] - 0s 45ms/step - loss: 0.0043\n",
            "Epoch 111/300\n",
            "8/8 [==============================] - 0s 45ms/step - loss: 0.0042\n",
            "Epoch 112/300\n",
            "8/8 [==============================] - 0s 47ms/step - loss: 0.0040\n",
            "Epoch 113/300\n",
            "8/8 [==============================] - 0s 45ms/step - loss: 0.0043\n",
            "Epoch 114/300\n",
            "8/8 [==============================] - 0s 50ms/step - loss: 0.0037\n",
            "Epoch 115/300\n",
            "8/8 [==============================] - 0s 58ms/step - loss: 0.0039\n",
            "Epoch 116/300\n",
            "8/8 [==============================] - 0s 36ms/step - loss: 0.0040\n",
            "Epoch 117/300\n",
            "8/8 [==============================] - 0s 29ms/step - loss: 0.0037\n",
            "Epoch 118/300\n",
            "8/8 [==============================] - 0s 34ms/step - loss: 0.0038\n",
            "Epoch 119/300\n",
            "8/8 [==============================] - 0s 28ms/step - loss: 0.0042\n",
            "Epoch 120/300\n",
            "8/8 [==============================] - 0s 32ms/step - loss: 0.0040\n",
            "Epoch 121/300\n",
            "8/8 [==============================] - 0s 28ms/step - loss: 0.0045\n",
            "Epoch 122/300\n",
            "8/8 [==============================] - 0s 34ms/step - loss: 0.0041\n",
            "Epoch 123/300\n",
            "8/8 [==============================] - 0s 28ms/step - loss: 0.0037\n",
            "Epoch 124/300\n",
            "8/8 [==============================] - 0s 31ms/step - loss: 0.0035\n",
            "Epoch 125/300\n",
            "8/8 [==============================] - 0s 29ms/step - loss: 0.0040\n",
            "Epoch 126/300\n",
            "8/8 [==============================] - 0s 33ms/step - loss: 0.0041\n",
            "Epoch 127/300\n",
            "8/8 [==============================] - 0s 29ms/step - loss: 0.0044\n",
            "Epoch 128/300\n",
            "8/8 [==============================] - 0s 32ms/step - loss: 0.0038\n",
            "Epoch 129/300\n",
            "8/8 [==============================] - 0s 30ms/step - loss: 0.0038\n",
            "Epoch 130/300\n",
            "8/8 [==============================] - 0s 33ms/step - loss: 0.0031\n",
            "Epoch 131/300\n",
            "8/8 [==============================] - 0s 29ms/step - loss: 0.0033\n",
            "Epoch 132/300\n",
            "8/8 [==============================] - 0s 31ms/step - loss: 0.0033\n",
            "Epoch 133/300\n",
            "8/8 [==============================] - 0s 28ms/step - loss: 0.0033\n",
            "Epoch 134/300\n",
            "8/8 [==============================] - 0s 34ms/step - loss: 0.0031\n",
            "Epoch 135/300\n",
            "8/8 [==============================] - 0s 28ms/step - loss: 0.0032\n",
            "Epoch 136/300\n",
            "8/8 [==============================] - 0s 32ms/step - loss: 0.0032\n",
            "Epoch 137/300\n",
            "8/8 [==============================] - 0s 30ms/step - loss: 0.0033\n",
            "Epoch 138/300\n",
            "8/8 [==============================] - 0s 33ms/step - loss: 0.0032\n",
            "Epoch 139/300\n",
            "8/8 [==============================] - 0s 29ms/step - loss: 0.0031\n",
            "Epoch 140/300\n",
            "8/8 [==============================] - 0s 31ms/step - loss: 0.0041\n",
            "Epoch 141/300\n",
            "8/8 [==============================] - 0s 54ms/step - loss: 0.0049\n",
            "Epoch 142/300\n",
            "8/8 [==============================] - 0s 48ms/step - loss: 0.0037\n",
            "Epoch 143/300\n",
            "8/8 [==============================] - 0s 53ms/step - loss: 0.0034\n",
            "Epoch 144/300\n",
            "8/8 [==============================] - 0s 51ms/step - loss: 0.0046\n",
            "Epoch 145/300\n",
            "8/8 [==============================] - 0s 45ms/step - loss: 0.0048\n",
            "Epoch 146/300\n",
            "8/8 [==============================] - 0s 51ms/step - loss: 0.0038\n",
            "Epoch 147/300\n",
            "8/8 [==============================] - 0s 45ms/step - loss: 0.0041\n",
            "Epoch 148/300\n",
            "8/8 [==============================] - 0s 50ms/step - loss: 0.0036\n",
            "Epoch 149/300\n",
            "8/8 [==============================] - 0s 54ms/step - loss: 0.0031\n",
            "Epoch 150/300\n",
            "8/8 [==============================] - 0s 44ms/step - loss: 0.0031\n",
            "Epoch 151/300\n",
            "8/8 [==============================] - 0s 32ms/step - loss: 0.0032\n",
            "Epoch 152/300\n",
            "8/8 [==============================] - 0s 31ms/step - loss: 0.0033\n",
            "Epoch 153/300\n",
            "8/8 [==============================] - 0s 28ms/step - loss: 0.0030\n",
            "Epoch 154/300\n",
            "8/8 [==============================] - 0s 29ms/step - loss: 0.0030\n",
            "Epoch 155/300\n",
            "8/8 [==============================] - 0s 33ms/step - loss: 0.0030\n",
            "Epoch 156/300\n",
            "8/8 [==============================] - 0s 32ms/step - loss: 0.0031\n",
            "Epoch 157/300\n",
            "8/8 [==============================] - 0s 29ms/step - loss: 0.0030\n",
            "Epoch 158/300\n",
            "8/8 [==============================] - 0s 30ms/step - loss: 0.0030\n",
            "Epoch 159/300\n",
            "8/8 [==============================] - 0s 33ms/step - loss: 0.0031\n",
            "Epoch 160/300\n",
            "8/8 [==============================] - 0s 30ms/step - loss: 0.0033\n",
            "Epoch 161/300\n",
            "8/8 [==============================] - 0s 28ms/step - loss: 0.0029\n",
            "Epoch 162/300\n",
            "8/8 [==============================] - 0s 30ms/step - loss: 0.0031\n",
            "Epoch 163/300\n",
            "8/8 [==============================] - 0s 29ms/step - loss: 0.0030\n",
            "Epoch 164/300\n",
            "8/8 [==============================] - 0s 32ms/step - loss: 0.0031\n",
            "Epoch 165/300\n",
            "8/8 [==============================] - 0s 29ms/step - loss: 0.0028\n",
            "Epoch 166/300\n",
            "8/8 [==============================] - 0s 30ms/step - loss: 0.0029\n",
            "Epoch 167/300\n",
            "8/8 [==============================] - 0s 29ms/step - loss: 0.0033\n",
            "Epoch 168/300\n",
            "8/8 [==============================] - 0s 33ms/step - loss: 0.0031\n",
            "Epoch 169/300\n",
            "8/8 [==============================] - 0s 28ms/step - loss: 0.0033\n",
            "Epoch 170/300\n",
            "8/8 [==============================] - 0s 28ms/step - loss: 0.0031\n",
            "Epoch 171/300\n",
            "8/8 [==============================] - 0s 30ms/step - loss: 0.0030\n",
            "Epoch 172/300\n",
            "8/8 [==============================] - 0s 33ms/step - loss: 0.0029\n",
            "Epoch 173/300\n",
            "8/8 [==============================] - 0s 28ms/step - loss: 0.0029\n",
            "Epoch 174/300\n",
            "8/8 [==============================] - 0s 29ms/step - loss: 0.0032\n",
            "Epoch 175/300\n",
            "8/8 [==============================] - 0s 28ms/step - loss: 0.0032\n",
            "Epoch 176/300\n",
            "8/8 [==============================] - 0s 36ms/step - loss: 0.0035\n",
            "Epoch 177/300\n",
            "8/8 [==============================] - 0s 28ms/step - loss: 0.0035\n",
            "Epoch 178/300\n",
            "8/8 [==============================] - 0s 29ms/step - loss: 0.0029\n",
            "Epoch 179/300\n",
            "8/8 [==============================] - 0s 30ms/step - loss: 0.0031\n",
            "Epoch 180/300\n",
            "8/8 [==============================] - 0s 35ms/step - loss: 0.0030\n",
            "Epoch 181/300\n",
            "8/8 [==============================] - 0s 29ms/step - loss: 0.0031\n",
            "Epoch 182/300\n",
            "8/8 [==============================] - 0s 29ms/step - loss: 0.0030\n",
            "Epoch 183/300\n",
            "8/8 [==============================] - 0s 29ms/step - loss: 0.0029\n",
            "Epoch 184/300\n",
            "8/8 [==============================] - 0s 33ms/step - loss: 0.0032\n",
            "Epoch 185/300\n",
            "8/8 [==============================] - 0s 29ms/step - loss: 0.0033\n",
            "Epoch 186/300\n",
            "8/8 [==============================] - 0s 29ms/step - loss: 0.0029\n",
            "Epoch 187/300\n",
            "8/8 [==============================] - 0s 29ms/step - loss: 0.0030\n",
            "Epoch 188/300\n",
            "8/8 [==============================] - 0s 35ms/step - loss: 0.0030\n",
            "Epoch 189/300\n",
            "8/8 [==============================] - 0s 30ms/step - loss: 0.0029\n",
            "Epoch 190/300\n",
            "8/8 [==============================] - 0s 33ms/step - loss: 0.0030\n",
            "Epoch 191/300\n",
            "8/8 [==============================] - 0s 55ms/step - loss: 0.0032\n",
            "Epoch 192/300\n",
            "8/8 [==============================] - 0s 49ms/step - loss: 0.0036\n",
            "Epoch 193/300\n",
            "8/8 [==============================] - 0s 46ms/step - loss: 0.0031\n",
            "Epoch 194/300\n",
            "8/8 [==============================] - 0s 47ms/step - loss: 0.0032\n",
            "Epoch 195/300\n",
            "8/8 [==============================] - 0s 46ms/step - loss: 0.0030\n",
            "Epoch 196/300\n",
            "8/8 [==============================] - 0s 51ms/step - loss: 0.0031\n",
            "Epoch 197/300\n",
            "8/8 [==============================] - 0s 44ms/step - loss: 0.0030\n",
            "Epoch 198/300\n",
            "8/8 [==============================] - 0s 50ms/step - loss: 0.0037\n",
            "Epoch 199/300\n",
            "8/8 [==============================] - 0s 57ms/step - loss: 0.0035\n",
            "Epoch 200/300\n",
            "8/8 [==============================] - 0s 40ms/step - loss: 0.0029\n",
            "Epoch 201/300\n",
            "8/8 [==============================] - 0s 29ms/step - loss: 0.0030\n",
            "Epoch 202/300\n",
            "8/8 [==============================] - 0s 35ms/step - loss: 0.0030\n",
            "Epoch 203/300\n",
            "8/8 [==============================] - 0s 30ms/step - loss: 0.0031\n",
            "Epoch 204/300\n",
            "8/8 [==============================] - 0s 31ms/step - loss: 0.0031\n",
            "Epoch 205/300\n",
            "8/8 [==============================] - 0s 30ms/step - loss: 0.0037\n",
            "Epoch 206/300\n",
            "8/8 [==============================] - 0s 33ms/step - loss: 0.0032\n",
            "Epoch 207/300\n",
            "8/8 [==============================] - 0s 29ms/step - loss: 0.0032\n",
            "Epoch 208/300\n",
            "8/8 [==============================] - 0s 31ms/step - loss: 0.0032\n",
            "Epoch 209/300\n",
            "8/8 [==============================] - 0s 29ms/step - loss: 0.0030\n",
            "Epoch 210/300\n",
            "8/8 [==============================] - 0s 34ms/step - loss: 0.0029\n",
            "Epoch 211/300\n",
            "8/8 [==============================] - 0s 28ms/step - loss: 0.0029\n",
            "Epoch 212/300\n",
            "8/8 [==============================] - 0s 31ms/step - loss: 0.0029\n",
            "Epoch 213/300\n",
            "8/8 [==============================] - 0s 29ms/step - loss: 0.0029\n",
            "Epoch 214/300\n",
            "8/8 [==============================] - 0s 33ms/step - loss: 0.0030\n",
            "Epoch 215/300\n",
            "8/8 [==============================] - 0s 28ms/step - loss: 0.0028\n",
            "Epoch 216/300\n",
            "8/8 [==============================] - 0s 31ms/step - loss: 0.0028\n",
            "Epoch 217/300\n",
            "8/8 [==============================] - 0s 28ms/step - loss: 0.0029\n",
            "Epoch 218/300\n",
            "8/8 [==============================] - 0s 33ms/step - loss: 0.0029\n",
            "Epoch 219/300\n",
            "8/8 [==============================] - 0s 29ms/step - loss: 0.0029\n",
            "Epoch 220/300\n",
            "8/8 [==============================] - 0s 31ms/step - loss: 0.0028\n",
            "Epoch 221/300\n",
            "8/8 [==============================] - 0s 34ms/step - loss: 0.0031\n",
            "Epoch 222/300\n",
            "8/8 [==============================] - 0s 35ms/step - loss: 0.0030\n",
            "Epoch 223/300\n",
            "8/8 [==============================] - 0s 29ms/step - loss: 0.0034\n",
            "Epoch 224/300\n",
            "8/8 [==============================] - 0s 31ms/step - loss: 0.0030\n",
            "Epoch 225/300\n",
            "8/8 [==============================] - 0s 29ms/step - loss: 0.0033\n",
            "Epoch 226/300\n",
            "8/8 [==============================] - 0s 34ms/step - loss: 0.0029\n",
            "Epoch 227/300\n",
            "8/8 [==============================] - 0s 29ms/step - loss: 0.0029\n",
            "Epoch 228/300\n",
            "8/8 [==============================] - 0s 30ms/step - loss: 0.0033\n",
            "Epoch 229/300\n",
            "8/8 [==============================] - 0s 31ms/step - loss: 0.0032\n",
            "Epoch 230/300\n",
            "8/8 [==============================] - 0s 32ms/step - loss: 0.0030\n",
            "Epoch 231/300\n",
            "8/8 [==============================] - 0s 30ms/step - loss: 0.0036\n",
            "Epoch 232/300\n",
            "8/8 [==============================] - 0s 30ms/step - loss: 0.0037\n",
            "Epoch 233/300\n",
            "8/8 [==============================] - 0s 31ms/step - loss: 0.0038\n",
            "Epoch 234/300\n",
            "8/8 [==============================] - 0s 33ms/step - loss: 0.0034\n",
            "Epoch 235/300\n",
            "8/8 [==============================] - 0s 29ms/step - loss: 0.0030\n",
            "Epoch 236/300\n",
            "8/8 [==============================] - 0s 29ms/step - loss: 0.0029\n",
            "Epoch 237/300\n",
            "8/8 [==============================] - 0s 31ms/step - loss: 0.0029\n",
            "Epoch 238/300\n",
            "8/8 [==============================] - 0s 31ms/step - loss: 0.0032\n",
            "Epoch 239/300\n",
            "8/8 [==============================] - 0s 27ms/step - loss: 0.0030\n",
            "Epoch 240/300\n",
            "8/8 [==============================] - 0s 40ms/step - loss: 0.0028\n",
            "Epoch 241/300\n",
            "8/8 [==============================] - 0s 48ms/step - loss: 0.0033\n",
            "Epoch 242/300\n",
            "8/8 [==============================] - 0s 47ms/step - loss: 0.0032\n",
            "Epoch 243/300\n",
            "8/8 [==============================] - 0s 46ms/step - loss: 0.0030\n",
            "Epoch 244/300\n",
            "8/8 [==============================] - 0s 52ms/step - loss: 0.0032\n",
            "Epoch 245/300\n",
            "8/8 [==============================] - 0s 45ms/step - loss: 0.0030\n",
            "Epoch 246/300\n",
            "8/8 [==============================] - 0s 49ms/step - loss: 0.0032\n",
            "Epoch 247/300\n",
            "8/8 [==============================] - 0s 46ms/step - loss: 0.0029\n",
            "Epoch 248/300\n",
            "8/8 [==============================] - 0s 46ms/step - loss: 0.0033\n",
            "Epoch 249/300\n",
            "8/8 [==============================] - 0s 52ms/step - loss: 0.0033\n",
            "Epoch 250/300\n",
            "8/8 [==============================] - 0s 47ms/step - loss: 0.0032\n",
            "Epoch 251/300\n",
            "8/8 [==============================] - 0s 40ms/step - loss: 0.0033\n",
            "Epoch 252/300\n",
            "8/8 [==============================] - 0s 32ms/step - loss: 0.0030\n",
            "Epoch 253/300\n",
            "8/8 [==============================] - 0s 29ms/step - loss: 0.0036\n",
            "Epoch 254/300\n",
            "8/8 [==============================] - 0s 29ms/step - loss: 0.0031\n",
            "Epoch 255/300\n",
            "8/8 [==============================] - 0s 29ms/step - loss: 0.0029\n",
            "Epoch 256/300\n",
            "8/8 [==============================] - 0s 35ms/step - loss: 0.0028\n",
            "Epoch 257/300\n",
            "8/8 [==============================] - 0s 29ms/step - loss: 0.0031\n",
            "Epoch 258/300\n",
            "8/8 [==============================] - 0s 30ms/step - loss: 0.0030\n",
            "Epoch 259/300\n",
            "8/8 [==============================] - 0s 29ms/step - loss: 0.0030\n",
            "Epoch 260/300\n",
            "8/8 [==============================] - 0s 34ms/step - loss: 0.0029\n",
            "Epoch 261/300\n",
            "8/8 [==============================] - 0s 28ms/step - loss: 0.0028\n",
            "Epoch 262/300\n",
            "8/8 [==============================] - 0s 30ms/step - loss: 0.0031\n",
            "Epoch 263/300\n",
            "8/8 [==============================] - 0s 33ms/step - loss: 0.0032\n",
            "Epoch 264/300\n",
            "8/8 [==============================] - 0s 33ms/step - loss: 0.0031\n",
            "Epoch 265/300\n",
            "8/8 [==============================] - 0s 29ms/step - loss: 0.0029\n",
            "Epoch 266/300\n",
            "8/8 [==============================] - 0s 32ms/step - loss: 0.0029\n",
            "Epoch 267/300\n",
            "8/8 [==============================] - 0s 35ms/step - loss: 0.0030\n",
            "Epoch 268/300\n",
            "8/8 [==============================] - 0s 32ms/step - loss: 0.0029\n",
            "Epoch 269/300\n",
            "8/8 [==============================] - 0s 30ms/step - loss: 0.0027\n",
            "Epoch 270/300\n",
            "8/8 [==============================] - 0s 30ms/step - loss: 0.0029\n",
            "Epoch 271/300\n",
            "8/8 [==============================] - 0s 35ms/step - loss: 0.0030\n",
            "Epoch 272/300\n",
            "8/8 [==============================] - 0s 32ms/step - loss: 0.0027\n",
            "Epoch 273/300\n",
            "8/8 [==============================] - 0s 30ms/step - loss: 0.0029\n",
            "Epoch 274/300\n",
            "8/8 [==============================] - 0s 30ms/step - loss: 0.0028\n",
            "Epoch 275/300\n",
            "8/8 [==============================] - 0s 34ms/step - loss: 0.0027\n",
            "Epoch 276/300\n",
            "8/8 [==============================] - 0s 34ms/step - loss: 0.0028\n",
            "Epoch 277/300\n",
            "8/8 [==============================] - 0s 30ms/step - loss: 0.0032\n",
            "Epoch 278/300\n",
            "8/8 [==============================] - 0s 30ms/step - loss: 0.0028\n",
            "Epoch 279/300\n",
            "8/8 [==============================] - 0s 37ms/step - loss: 0.0030\n",
            "Epoch 280/300\n",
            "8/8 [==============================] - 0s 31ms/step - loss: 0.0032\n",
            "Epoch 281/300\n",
            "8/8 [==============================] - 0s 30ms/step - loss: 0.0029\n",
            "Epoch 282/300\n",
            "8/8 [==============================] - 0s 31ms/step - loss: 0.0029\n",
            "Epoch 283/300\n",
            "8/8 [==============================] - 0s 34ms/step - loss: 0.0031\n",
            "Epoch 284/300\n",
            "8/8 [==============================] - 0s 33ms/step - loss: 0.0029\n",
            "Epoch 285/300\n",
            "8/8 [==============================] - 0s 30ms/step - loss: 0.0029\n",
            "Epoch 286/300\n",
            "8/8 [==============================] - 0s 31ms/step - loss: 0.0029\n",
            "Epoch 287/300\n",
            "8/8 [==============================] - 0s 30ms/step - loss: 0.0031\n",
            "Epoch 288/300\n",
            "8/8 [==============================] - 0s 30ms/step - loss: 0.0028\n",
            "Epoch 289/300\n",
            "8/8 [==============================] - 0s 30ms/step - loss: 0.0030\n",
            "Epoch 290/300\n",
            "8/8 [==============================] - 0s 41ms/step - loss: 0.0037\n",
            "Epoch 291/300\n",
            "8/8 [==============================] - 0s 47ms/step - loss: 0.0033\n",
            "Epoch 292/300\n",
            "8/8 [==============================] - 0s 53ms/step - loss: 0.0029\n",
            "Epoch 293/300\n",
            "8/8 [==============================] - 0s 48ms/step - loss: 0.0028\n",
            "Epoch 294/300\n",
            "8/8 [==============================] - 0s 51ms/step - loss: 0.0029\n",
            "Epoch 295/300\n",
            "8/8 [==============================] - 0s 49ms/step - loss: 0.0029\n",
            "Epoch 296/300\n",
            "8/8 [==============================] - 0s 45ms/step - loss: 0.0028\n",
            "Epoch 297/300\n",
            "8/8 [==============================] - 0s 48ms/step - loss: 0.0028\n",
            "Epoch 298/300\n",
            "8/8 [==============================] - 0s 51ms/step - loss: 0.0028\n",
            "Epoch 299/300\n",
            "8/8 [==============================] - 0s 48ms/step - loss: 0.0028\n",
            "Epoch 300/300\n",
            "8/8 [==============================] - 0s 51ms/step - loss: 0.0029\n"
          ]
        },
        {
          "output_type": "execute_result",
          "data": {
            "text/plain": [
              "<keras.src.callbacks.History at 0x7837fc119e40>"
            ]
          },
          "metadata": {},
          "execution_count": 29
        }
      ],
      "source": [
        "model.fit(x_train,y_train,epochs=300, verbose=1, )"
      ]
    },
    {
      "cell_type": "code",
      "execution_count": null,
      "metadata": {
        "execution": {
          "iopub.execute_input": "2021-03-05T11:16:26.460953Z",
          "iopub.status.busy": "2021-03-05T11:16:26.460276Z",
          "iopub.status.idle": "2021-03-05T11:16:26.463274Z",
          "shell.execute_reply": "2021-03-05T11:16:26.462751Z"
        },
        "papermill": {
          "duration": 0.526653,
          "end_time": "2021-03-05T11:16:26.463423",
          "exception": false,
          "start_time": "2021-03-05T11:16:25.936770",
          "status": "completed"
        },
        "tags": [],
        "id": "kwsrtDznx7V5",
        "colab": {
          "base_uri": "https://localhost:8080/"
        },
        "outputId": "e6706b40-ac5c-4529-9eec-e13949a81a83"
      },
      "outputs": [
        {
          "output_type": "stream",
          "name": "stdout",
          "text": [
            "4/4 [==============================] - 2s 10ms/step - loss: 0.0084\n"
          ]
        },
        {
          "output_type": "execute_result",
          "data": {
            "text/plain": [
              "0.008375451900064945"
            ]
          },
          "metadata": {},
          "execution_count": 30
        }
      ],
      "source": [
        "model.evaluate(x_test, y_test)"
      ]
    },
    {
      "cell_type": "markdown",
      "metadata": {
        "papermill": {
          "duration": 0.510612,
          "end_time": "2021-03-05T11:16:27.483257",
          "exception": false,
          "start_time": "2021-03-05T11:16:26.972645",
          "status": "completed"
        },
        "tags": [],
        "id": "yw97WcCBx7V5"
      },
      "source": [
        "### Predictions and Model evaluation"
      ]
    },
    {
      "cell_type": "markdown",
      "metadata": {
        "papermill": {
          "duration": 0.515905,
          "end_time": "2021-03-05T11:16:28.511896",
          "exception": false,
          "start_time": "2021-03-05T11:16:27.995991",
          "status": "completed"
        },
        "tags": [],
        "id": "BzRk0iw9x7V5"
      },
      "source": [
        "Predictions on training set"
      ]
    },
    {
      "cell_type": "code",
      "execution_count": null,
      "metadata": {
        "execution": {
          "iopub.execute_input": "2021-03-05T11:16:29.603649Z",
          "iopub.status.busy": "2021-03-05T11:16:29.602644Z",
          "iopub.status.idle": "2021-03-05T11:16:31.000745Z",
          "shell.execute_reply": "2021-03-05T11:16:31.001349Z"
        },
        "papermill": {
          "duration": 1.921717,
          "end_time": "2021-03-05T11:16:31.001558",
          "exception": false,
          "start_time": "2021-03-05T11:16:29.079841",
          "status": "completed"
        },
        "tags": [],
        "colab": {
          "base_uri": "https://localhost:8080/"
        },
        "id": "UWC0uuf-x7V5",
        "outputId": "6aa13291-b769-4b5e-fdfa-4f1147d60cdf"
      },
      "outputs": [
        {
          "output_type": "stream",
          "name": "stdout",
          "text": [
            "8/8 [==============================] - 1s 9ms/step\n",
            "Predicted Value 0.7320577\n",
            "Expected value 0.7083333333333334\n"
          ]
        }
      ],
      "source": [
        "print(\"Predicted Value\",model.predict(x_train)[4][0])\n",
        "print(\"Expected value\",y_train[4][0])"
      ]
    },
    {
      "cell_type": "markdown",
      "metadata": {
        "papermill": {
          "duration": 0.53262,
          "end_time": "2021-03-05T11:16:32.047156",
          "exception": false,
          "start_time": "2021-03-05T11:16:31.514536",
          "status": "completed"
        },
        "tags": [],
        "id": "tQ_cvaZAx7V5"
      },
      "source": [
        "Predictions on testing set"
      ]
    },
    {
      "cell_type": "code",
      "execution_count": null,
      "metadata": {
        "execution": {
          "iopub.execute_input": "2021-03-05T11:16:33.104050Z",
          "iopub.status.busy": "2021-03-05T11:16:33.103332Z",
          "iopub.status.idle": "2021-03-05T11:16:33.178422Z",
          "shell.execute_reply": "2021-03-05T11:16:33.177818Z"
        },
        "papermill": {
          "duration": 0.603016,
          "end_time": "2021-03-05T11:16:33.178579",
          "exception": false,
          "start_time": "2021-03-05T11:16:32.575563",
          "status": "completed"
        },
        "tags": [],
        "colab": {
          "base_uri": "https://localhost:8080/"
        },
        "id": "IFzBNa46x7V5",
        "outputId": "9ed05c8c-5ab0-4863-eaae-aff83b511733"
      },
      "outputs": [
        {
          "output_type": "stream",
          "name": "stdout",
          "text": [
            "4/4 [==============================] - 0s 8ms/step\n"
          ]
        }
      ],
      "source": [
        "predictions=model.predict(x_test)"
      ]
    },
    {
      "cell_type": "code",
      "execution_count": null,
      "metadata": {
        "execution": {
          "iopub.execute_input": "2021-03-05T11:16:34.245562Z",
          "iopub.status.busy": "2021-03-05T11:16:34.244864Z",
          "iopub.status.idle": "2021-03-05T11:16:34.247548Z",
          "shell.execute_reply": "2021-03-05T11:16:34.248047Z"
        },
        "papermill": {
          "duration": 0.539641,
          "end_time": "2021-03-05T11:16:34.248224",
          "exception": false,
          "start_time": "2021-03-05T11:16:33.708583",
          "status": "completed"
        },
        "tags": [],
        "colab": {
          "base_uri": "https://localhost:8080/"
        },
        "id": "1Ms9Ehl6x7V5",
        "outputId": "3e5a6ed5-c68d-494f-cd6d-6a170503aae0"
      },
      "outputs": [
        {
          "output_type": "stream",
          "name": "stdout",
          "text": [
            "Predicted Value 0.4209371\n",
            "Expected Value 0.41666666666666663\n"
          ]
        }
      ],
      "source": [
        "print(\"Predicted Value\",predictions[2][0])\n",
        "print(\"Expected Value\",y_test[2][0])"
      ]
    },
    {
      "cell_type": "code",
      "execution_count": null,
      "metadata": {
        "papermill": {
          "duration": 0.530278,
          "end_time": "2021-03-05T11:16:35.302322",
          "exception": false,
          "start_time": "2021-03-05T11:16:34.772044",
          "status": "completed"
        },
        "tags": [],
        "id": "Wr20ALplx7V5"
      },
      "outputs": [],
      "source": []
    },
    {
      "cell_type": "code",
      "execution_count": null,
      "metadata": {
        "execution": {
          "iopub.execute_input": "2021-03-05T11:16:36.403230Z",
          "iopub.status.busy": "2021-03-05T11:16:36.402509Z",
          "iopub.status.idle": "2021-03-05T11:16:36.407241Z",
          "shell.execute_reply": "2021-03-05T11:16:36.407722Z"
        },
        "papermill": {
          "duration": 0.563711,
          "end_time": "2021-03-05T11:16:36.407931",
          "exception": false,
          "start_time": "2021-03-05T11:16:35.844220",
          "status": "completed"
        },
        "tags": [],
        "colab": {
          "base_uri": "https://localhost:8080/"
        },
        "id": "eSbqyinEx7V5",
        "outputId": "3a71d2e7-0ed6-46d3-a75b-abfb61ef3e3b"
      },
      "outputs": [
        {
          "output_type": "execute_result",
          "data": {
            "text/plain": [
              "(105, 1)"
            ]
          },
          "metadata": {},
          "execution_count": 34
        }
      ],
      "source": [
        "predictions.shape"
      ]
    },
    {
      "cell_type": "code",
      "execution_count": null,
      "metadata": {
        "execution": {
          "iopub.execute_input": "2021-03-05T11:16:37.500012Z",
          "iopub.status.busy": "2021-03-05T11:16:37.499309Z",
          "iopub.status.idle": "2021-03-05T11:16:37.504237Z",
          "shell.execute_reply": "2021-03-05T11:16:37.503604Z"
        },
        "papermill": {
          "duration": 0.574574,
          "end_time": "2021-03-05T11:16:37.504395",
          "exception": false,
          "start_time": "2021-03-05T11:16:36.929821",
          "status": "completed"
        },
        "tags": [],
        "colab": {
          "base_uri": "https://localhost:8080/"
        },
        "id": "HBrpWb07x7V6",
        "outputId": "8c6b789c-be48-4969-e479-75d87b23e1cb"
      },
      "outputs": [
        {
          "output_type": "execute_result",
          "data": {
            "text/plain": [
              "(105, 1)"
            ]
          },
          "metadata": {},
          "execution_count": 35
        }
      ],
      "source": [
        "y_test.shape"
      ]
    },
    {
      "cell_type": "code",
      "execution_count": null,
      "metadata": {
        "execution": {
          "iopub.execute_input": "2021-03-05T11:16:38.592283Z",
          "iopub.status.busy": "2021-03-05T11:16:38.590923Z",
          "iopub.status.idle": "2021-03-05T11:16:38.595231Z",
          "shell.execute_reply": "2021-03-05T11:16:38.594666Z"
        },
        "papermill": {
          "duration": 0.538878,
          "end_time": "2021-03-05T11:16:38.595389",
          "exception": false,
          "start_time": "2021-03-05T11:16:38.056511",
          "status": "completed"
        },
        "tags": [],
        "id": "LXeoKi3jx7V6"
      },
      "outputs": [],
      "source": [
        "pred_df=pd.DataFrame(predictions)"
      ]
    },
    {
      "cell_type": "code",
      "execution_count": null,
      "metadata": {
        "execution": {
          "iopub.execute_input": "2021-03-05T11:16:39.667561Z",
          "iopub.status.busy": "2021-03-05T11:16:39.666704Z",
          "iopub.status.idle": "2021-03-05T11:16:39.670635Z",
          "shell.execute_reply": "2021-03-05T11:16:39.670095Z"
        },
        "papermill": {
          "duration": 0.524745,
          "end_time": "2021-03-05T11:16:39.670791",
          "exception": false,
          "start_time": "2021-03-05T11:16:39.146046",
          "status": "completed"
        },
        "tags": [],
        "id": "AmpSN1Q4x7V6"
      },
      "outputs": [],
      "source": [
        "pred_df['TrueValues']=y_test"
      ]
    },
    {
      "cell_type": "code",
      "execution_count": null,
      "metadata": {
        "execution": {
          "iopub.execute_input": "2021-03-05T11:16:40.823917Z",
          "iopub.status.busy": "2021-03-05T11:16:40.823178Z",
          "iopub.status.idle": "2021-03-05T11:16:40.826526Z",
          "shell.execute_reply": "2021-03-05T11:16:40.825978Z"
        },
        "papermill": {
          "duration": 0.568356,
          "end_time": "2021-03-05T11:16:40.826690",
          "exception": false,
          "start_time": "2021-03-05T11:16:40.258334",
          "status": "completed"
        },
        "tags": [],
        "id": "c7obZsaEx7V6"
      },
      "outputs": [],
      "source": [
        "pred_df_new = pred_df.rename(columns={ 0: 'Predictions'})"
      ]
    },
    {
      "cell_type": "code",
      "execution_count": null,
      "metadata": {
        "execution": {
          "iopub.execute_input": "2021-03-05T11:16:41.907314Z",
          "iopub.status.busy": "2021-03-05T11:16:41.906329Z",
          "iopub.status.idle": "2021-03-05T11:16:41.911262Z",
          "shell.execute_reply": "2021-03-05T11:16:41.910542Z"
        },
        "papermill": {
          "duration": 0.55583,
          "end_time": "2021-03-05T11:16:41.911416",
          "exception": false,
          "start_time": "2021-03-05T11:16:41.355586",
          "status": "completed"
        },
        "tags": [],
        "colab": {
          "base_uri": "https://localhost:8080/",
          "height": 423
        },
        "id": "0XB7D7Lix7V6",
        "outputId": "63264e81-3048-4bf9-d1c4-833bf1e5eaff"
      },
      "outputs": [
        {
          "output_type": "execute_result",
          "data": {
            "text/plain": [
              "     Predictions  TrueValues\n",
              "0       0.469926    0.541667\n",
              "1       0.576654    0.416667\n",
              "2       0.420937    0.416667\n",
              "3       0.431149    0.458333\n",
              "4       0.510291    0.500000\n",
              "..           ...         ...\n",
              "100     0.229518    0.291667\n",
              "101     0.286219    0.208333\n",
              "102     0.235423    0.250000\n",
              "103     0.282312    0.250000\n",
              "104     0.321013    0.291667\n",
              "\n",
              "[105 rows x 2 columns]"
            ],
            "text/html": [
              "\n",
              "  <div id=\"df-e4d0eaba-e823-4ec6-ba0d-3d1aded9c0d6\" class=\"colab-df-container\">\n",
              "    <div>\n",
              "<style scoped>\n",
              "    .dataframe tbody tr th:only-of-type {\n",
              "        vertical-align: middle;\n",
              "    }\n",
              "\n",
              "    .dataframe tbody tr th {\n",
              "        vertical-align: top;\n",
              "    }\n",
              "\n",
              "    .dataframe thead th {\n",
              "        text-align: right;\n",
              "    }\n",
              "</style>\n",
              "<table border=\"1\" class=\"dataframe\">\n",
              "  <thead>\n",
              "    <tr style=\"text-align: right;\">\n",
              "      <th></th>\n",
              "      <th>Predictions</th>\n",
              "      <th>TrueValues</th>\n",
              "    </tr>\n",
              "  </thead>\n",
              "  <tbody>\n",
              "    <tr>\n",
              "      <th>0</th>\n",
              "      <td>0.469926</td>\n",
              "      <td>0.541667</td>\n",
              "    </tr>\n",
              "    <tr>\n",
              "      <th>1</th>\n",
              "      <td>0.576654</td>\n",
              "      <td>0.416667</td>\n",
              "    </tr>\n",
              "    <tr>\n",
              "      <th>2</th>\n",
              "      <td>0.420937</td>\n",
              "      <td>0.416667</td>\n",
              "    </tr>\n",
              "    <tr>\n",
              "      <th>3</th>\n",
              "      <td>0.431149</td>\n",
              "      <td>0.458333</td>\n",
              "    </tr>\n",
              "    <tr>\n",
              "      <th>4</th>\n",
              "      <td>0.510291</td>\n",
              "      <td>0.500000</td>\n",
              "    </tr>\n",
              "    <tr>\n",
              "      <th>...</th>\n",
              "      <td>...</td>\n",
              "      <td>...</td>\n",
              "    </tr>\n",
              "    <tr>\n",
              "      <th>100</th>\n",
              "      <td>0.229518</td>\n",
              "      <td>0.291667</td>\n",
              "    </tr>\n",
              "    <tr>\n",
              "      <th>101</th>\n",
              "      <td>0.286219</td>\n",
              "      <td>0.208333</td>\n",
              "    </tr>\n",
              "    <tr>\n",
              "      <th>102</th>\n",
              "      <td>0.235423</td>\n",
              "      <td>0.250000</td>\n",
              "    </tr>\n",
              "    <tr>\n",
              "      <th>103</th>\n",
              "      <td>0.282312</td>\n",
              "      <td>0.250000</td>\n",
              "    </tr>\n",
              "    <tr>\n",
              "      <th>104</th>\n",
              "      <td>0.321013</td>\n",
              "      <td>0.291667</td>\n",
              "    </tr>\n",
              "  </tbody>\n",
              "</table>\n",
              "<p>105 rows × 2 columns</p>\n",
              "</div>\n",
              "    <div class=\"colab-df-buttons\">\n",
              "\n",
              "  <div class=\"colab-df-container\">\n",
              "    <button class=\"colab-df-convert\" onclick=\"convertToInteractive('df-e4d0eaba-e823-4ec6-ba0d-3d1aded9c0d6')\"\n",
              "            title=\"Convert this dataframe to an interactive table.\"\n",
              "            style=\"display:none;\">\n",
              "\n",
              "  <svg xmlns=\"http://www.w3.org/2000/svg\" height=\"24px\" viewBox=\"0 -960 960 960\">\n",
              "    <path d=\"M120-120v-720h720v720H120Zm60-500h600v-160H180v160Zm220 220h160v-160H400v160Zm0 220h160v-160H400v160ZM180-400h160v-160H180v160Zm440 0h160v-160H620v160ZM180-180h160v-160H180v160Zm440 0h160v-160H620v160Z\"/>\n",
              "  </svg>\n",
              "    </button>\n",
              "\n",
              "  <style>\n",
              "    .colab-df-container {\n",
              "      display:flex;\n",
              "      gap: 12px;\n",
              "    }\n",
              "\n",
              "    .colab-df-convert {\n",
              "      background-color: #E8F0FE;\n",
              "      border: none;\n",
              "      border-radius: 50%;\n",
              "      cursor: pointer;\n",
              "      display: none;\n",
              "      fill: #1967D2;\n",
              "      height: 32px;\n",
              "      padding: 0 0 0 0;\n",
              "      width: 32px;\n",
              "    }\n",
              "\n",
              "    .colab-df-convert:hover {\n",
              "      background-color: #E2EBFA;\n",
              "      box-shadow: 0px 1px 2px rgba(60, 64, 67, 0.3), 0px 1px 3px 1px rgba(60, 64, 67, 0.15);\n",
              "      fill: #174EA6;\n",
              "    }\n",
              "\n",
              "    .colab-df-buttons div {\n",
              "      margin-bottom: 4px;\n",
              "    }\n",
              "\n",
              "    [theme=dark] .colab-df-convert {\n",
              "      background-color: #3B4455;\n",
              "      fill: #D2E3FC;\n",
              "    }\n",
              "\n",
              "    [theme=dark] .colab-df-convert:hover {\n",
              "      background-color: #434B5C;\n",
              "      box-shadow: 0px 1px 3px 1px rgba(0, 0, 0, 0.15);\n",
              "      filter: drop-shadow(0px 1px 2px rgba(0, 0, 0, 0.3));\n",
              "      fill: #FFFFFF;\n",
              "    }\n",
              "  </style>\n",
              "\n",
              "    <script>\n",
              "      const buttonEl =\n",
              "        document.querySelector('#df-e4d0eaba-e823-4ec6-ba0d-3d1aded9c0d6 button.colab-df-convert');\n",
              "      buttonEl.style.display =\n",
              "        google.colab.kernel.accessAllowed ? 'block' : 'none';\n",
              "\n",
              "      async function convertToInteractive(key) {\n",
              "        const element = document.querySelector('#df-e4d0eaba-e823-4ec6-ba0d-3d1aded9c0d6');\n",
              "        const dataTable =\n",
              "          await google.colab.kernel.invokeFunction('convertToInteractive',\n",
              "                                                    [key], {});\n",
              "        if (!dataTable) return;\n",
              "\n",
              "        const docLinkHtml = 'Like what you see? Visit the ' +\n",
              "          '<a target=\"_blank\" href=https://colab.research.google.com/notebooks/data_table.ipynb>data table notebook</a>'\n",
              "          + ' to learn more about interactive tables.';\n",
              "        element.innerHTML = '';\n",
              "        dataTable['output_type'] = 'display_data';\n",
              "        await google.colab.output.renderOutput(dataTable, element);\n",
              "        const docLink = document.createElement('div');\n",
              "        docLink.innerHTML = docLinkHtml;\n",
              "        element.appendChild(docLink);\n",
              "      }\n",
              "    </script>\n",
              "  </div>\n",
              "\n",
              "\n",
              "<div id=\"df-f078cdcc-61bf-453c-aaf2-cf129de81904\">\n",
              "  <button class=\"colab-df-quickchart\" onclick=\"quickchart('df-f078cdcc-61bf-453c-aaf2-cf129de81904')\"\n",
              "            title=\"Suggest charts\"\n",
              "            style=\"display:none;\">\n",
              "\n",
              "<svg xmlns=\"http://www.w3.org/2000/svg\" height=\"24px\"viewBox=\"0 0 24 24\"\n",
              "     width=\"24px\">\n",
              "    <g>\n",
              "        <path d=\"M19 3H5c-1.1 0-2 .9-2 2v14c0 1.1.9 2 2 2h14c1.1 0 2-.9 2-2V5c0-1.1-.9-2-2-2zM9 17H7v-7h2v7zm4 0h-2V7h2v10zm4 0h-2v-4h2v4z\"/>\n",
              "    </g>\n",
              "</svg>\n",
              "  </button>\n",
              "\n",
              "<style>\n",
              "  .colab-df-quickchart {\n",
              "      --bg-color: #E8F0FE;\n",
              "      --fill-color: #1967D2;\n",
              "      --hover-bg-color: #E2EBFA;\n",
              "      --hover-fill-color: #174EA6;\n",
              "      --disabled-fill-color: #AAA;\n",
              "      --disabled-bg-color: #DDD;\n",
              "  }\n",
              "\n",
              "  [theme=dark] .colab-df-quickchart {\n",
              "      --bg-color: #3B4455;\n",
              "      --fill-color: #D2E3FC;\n",
              "      --hover-bg-color: #434B5C;\n",
              "      --hover-fill-color: #FFFFFF;\n",
              "      --disabled-bg-color: #3B4455;\n",
              "      --disabled-fill-color: #666;\n",
              "  }\n",
              "\n",
              "  .colab-df-quickchart {\n",
              "    background-color: var(--bg-color);\n",
              "    border: none;\n",
              "    border-radius: 50%;\n",
              "    cursor: pointer;\n",
              "    display: none;\n",
              "    fill: var(--fill-color);\n",
              "    height: 32px;\n",
              "    padding: 0;\n",
              "    width: 32px;\n",
              "  }\n",
              "\n",
              "  .colab-df-quickchart:hover {\n",
              "    background-color: var(--hover-bg-color);\n",
              "    box-shadow: 0 1px 2px rgba(60, 64, 67, 0.3), 0 1px 3px 1px rgba(60, 64, 67, 0.15);\n",
              "    fill: var(--button-hover-fill-color);\n",
              "  }\n",
              "\n",
              "  .colab-df-quickchart-complete:disabled,\n",
              "  .colab-df-quickchart-complete:disabled:hover {\n",
              "    background-color: var(--disabled-bg-color);\n",
              "    fill: var(--disabled-fill-color);\n",
              "    box-shadow: none;\n",
              "  }\n",
              "\n",
              "  .colab-df-spinner {\n",
              "    border: 2px solid var(--fill-color);\n",
              "    border-color: transparent;\n",
              "    border-bottom-color: var(--fill-color);\n",
              "    animation:\n",
              "      spin 1s steps(1) infinite;\n",
              "  }\n",
              "\n",
              "  @keyframes spin {\n",
              "    0% {\n",
              "      border-color: transparent;\n",
              "      border-bottom-color: var(--fill-color);\n",
              "      border-left-color: var(--fill-color);\n",
              "    }\n",
              "    20% {\n",
              "      border-color: transparent;\n",
              "      border-left-color: var(--fill-color);\n",
              "      border-top-color: var(--fill-color);\n",
              "    }\n",
              "    30% {\n",
              "      border-color: transparent;\n",
              "      border-left-color: var(--fill-color);\n",
              "      border-top-color: var(--fill-color);\n",
              "      border-right-color: var(--fill-color);\n",
              "    }\n",
              "    40% {\n",
              "      border-color: transparent;\n",
              "      border-right-color: var(--fill-color);\n",
              "      border-top-color: var(--fill-color);\n",
              "    }\n",
              "    60% {\n",
              "      border-color: transparent;\n",
              "      border-right-color: var(--fill-color);\n",
              "    }\n",
              "    80% {\n",
              "      border-color: transparent;\n",
              "      border-right-color: var(--fill-color);\n",
              "      border-bottom-color: var(--fill-color);\n",
              "    }\n",
              "    90% {\n",
              "      border-color: transparent;\n",
              "      border-bottom-color: var(--fill-color);\n",
              "    }\n",
              "  }\n",
              "</style>\n",
              "\n",
              "  <script>\n",
              "    async function quickchart(key) {\n",
              "      const quickchartButtonEl =\n",
              "        document.querySelector('#' + key + ' button');\n",
              "      quickchartButtonEl.disabled = true;  // To prevent multiple clicks.\n",
              "      quickchartButtonEl.classList.add('colab-df-spinner');\n",
              "      try {\n",
              "        const charts = await google.colab.kernel.invokeFunction(\n",
              "            'suggestCharts', [key], {});\n",
              "      } catch (error) {\n",
              "        console.error('Error during call to suggestCharts:', error);\n",
              "      }\n",
              "      quickchartButtonEl.classList.remove('colab-df-spinner');\n",
              "      quickchartButtonEl.classList.add('colab-df-quickchart-complete');\n",
              "    }\n",
              "    (() => {\n",
              "      let quickchartButtonEl =\n",
              "        document.querySelector('#df-f078cdcc-61bf-453c-aaf2-cf129de81904 button');\n",
              "      quickchartButtonEl.style.display =\n",
              "        google.colab.kernel.accessAllowed ? 'block' : 'none';\n",
              "    })();\n",
              "  </script>\n",
              "</div>\n",
              "\n",
              "  <div id=\"id_1a17bc36-f603-4f3c-9cab-9f5cf51f4a00\">\n",
              "    <style>\n",
              "      .colab-df-generate {\n",
              "        background-color: #E8F0FE;\n",
              "        border: none;\n",
              "        border-radius: 50%;\n",
              "        cursor: pointer;\n",
              "        display: none;\n",
              "        fill: #1967D2;\n",
              "        height: 32px;\n",
              "        padding: 0 0 0 0;\n",
              "        width: 32px;\n",
              "      }\n",
              "\n",
              "      .colab-df-generate:hover {\n",
              "        background-color: #E2EBFA;\n",
              "        box-shadow: 0px 1px 2px rgba(60, 64, 67, 0.3), 0px 1px 3px 1px rgba(60, 64, 67, 0.15);\n",
              "        fill: #174EA6;\n",
              "      }\n",
              "\n",
              "      [theme=dark] .colab-df-generate {\n",
              "        background-color: #3B4455;\n",
              "        fill: #D2E3FC;\n",
              "      }\n",
              "\n",
              "      [theme=dark] .colab-df-generate:hover {\n",
              "        background-color: #434B5C;\n",
              "        box-shadow: 0px 1px 3px 1px rgba(0, 0, 0, 0.15);\n",
              "        filter: drop-shadow(0px 1px 2px rgba(0, 0, 0, 0.3));\n",
              "        fill: #FFFFFF;\n",
              "      }\n",
              "    </style>\n",
              "    <button class=\"colab-df-generate\" onclick=\"generateWithVariable('pred_df_new')\"\n",
              "            title=\"Generate code using this dataframe.\"\n",
              "            style=\"display:none;\">\n",
              "\n",
              "  <svg xmlns=\"http://www.w3.org/2000/svg\" height=\"24px\"viewBox=\"0 0 24 24\"\n",
              "       width=\"24px\">\n",
              "    <path d=\"M7,19H8.4L18.45,9,17,7.55,7,17.6ZM5,21V16.75L18.45,3.32a2,2,0,0,1,2.83,0l1.4,1.43a1.91,1.91,0,0,1,.58,1.4,1.91,1.91,0,0,1-.58,1.4L9.25,21ZM18.45,9,17,7.55Zm-12,3A5.31,5.31,0,0,0,4.9,8.1,5.31,5.31,0,0,0,1,6.5,5.31,5.31,0,0,0,4.9,4.9,5.31,5.31,0,0,0,6.5,1,5.31,5.31,0,0,0,8.1,4.9,5.31,5.31,0,0,0,12,6.5,5.46,5.46,0,0,0,6.5,12Z\"/>\n",
              "  </svg>\n",
              "    </button>\n",
              "    <script>\n",
              "      (() => {\n",
              "      const buttonEl =\n",
              "        document.querySelector('#id_1a17bc36-f603-4f3c-9cab-9f5cf51f4a00 button.colab-df-generate');\n",
              "      buttonEl.style.display =\n",
              "        google.colab.kernel.accessAllowed ? 'block' : 'none';\n",
              "\n",
              "      buttonEl.onclick = () => {\n",
              "        google.colab.notebook.generateWithVariable('pred_df_new');\n",
              "      }\n",
              "      })();\n",
              "    </script>\n",
              "  </div>\n",
              "\n",
              "    </div>\n",
              "  </div>\n"
            ],
            "application/vnd.google.colaboratory.intrinsic+json": {
              "type": "dataframe",
              "variable_name": "pred_df_new",
              "summary": "{\n  \"name\": \"pred_df_new\",\n  \"rows\": 105,\n  \"fields\": [\n    {\n      \"column\": \"Predictions\",\n      \"properties\": {\n        \"dtype\": \"float32\",\n        \"num_unique_values\": 105,\n        \"samples\": [\n          0.5282089710235596,\n          0.6611891984939575,\n          0.5371743440628052\n        ],\n        \"semantic_type\": \"\",\n        \"description\": \"\"\n      }\n    },\n    {\n      \"column\": \"TrueValues\",\n      \"properties\": {\n        \"dtype\": \"number\",\n        \"std\": 0.20704577707708455,\n        \"min\": 0.0,\n        \"max\": 0.7499999999999999,\n        \"num_unique_values\": 19,\n        \"samples\": [\n          0.5416666666666666,\n          0.6666666666666666,\n          0.20833333333333337\n        ],\n        \"semantic_type\": \"\",\n        \"description\": \"\"\n      }\n    }\n  ]\n}"
            }
          },
          "metadata": {},
          "execution_count": 39
        }
      ],
      "source": [
        "pred_df_new"
      ]
    },
    {
      "cell_type": "code",
      "execution_count": null,
      "metadata": {
        "execution": {
          "iopub.execute_input": "2021-03-05T11:16:43.005901Z",
          "iopub.status.busy": "2021-03-05T11:16:43.005142Z",
          "iopub.status.idle": "2021-03-05T11:16:43.320505Z",
          "shell.execute_reply": "2021-03-05T11:16:43.319676Z"
        },
        "papermill": {
          "duration": 0.86992,
          "end_time": "2021-03-05T11:16:43.320673",
          "exception": false,
          "start_time": "2021-03-05T11:16:42.450753",
          "status": "completed"
        },
        "tags": [],
        "colab": {
          "base_uri": "https://localhost:8080/",
          "height": 716
        },
        "id": "exs2an7Ix7V6",
        "outputId": "9807f773-a0c8-4cf5-9f8c-31fb75104ec3"
      },
      "outputs": [
        {
          "output_type": "execute_result",
          "data": {
            "text/plain": [
              "Text(0.5, 1.0, 'Predictions VS True Values on Testing Set')"
            ]
          },
          "metadata": {},
          "execution_count": 40
        },
        {
          "output_type": "display_data",
          "data": {
            "text/plain": [
              "<Figure size 1200x800 with 1 Axes>"
            ],
            "image/png": "[encoded data removed]"
          },
          "metadata": {}
        }
      ],
      "source": [
        "plt.figure(figsize=(12,8))\n",
        "sns.lineplot(data= pred_df_new)\n",
        "plt.title(\"Predictions VS True Values on Testing Set\")"
      ]
    },
    {
      "cell_type": "code",
      "execution_count": null,
      "metadata": {
        "papermill": {
          "duration": 0.554836,
          "end_time": "2021-03-05T11:16:44.463150",
          "exception": false,
          "start_time": "2021-03-05T11:16:43.908314",
          "status": "completed"
        },
        "tags": [],
        "id": "v2IJuaFcx7V6"
      },
      "outputs": [],
      "source": []
    },
    {
      "cell_type": "markdown",
      "metadata": {
        "papermill": {
          "duration": 0.532653,
          "end_time": "2021-03-05T11:16:45.523278",
          "exception": false,
          "start_time": "2021-03-05T11:16:44.990625",
          "status": "completed"
        },
        "tags": [],
        "id": "aeaZQ1W9x7V6"
      },
      "source": [
        "### Weather Predictions for next 30 Days"
      ]
    },
    {
      "cell_type": "markdown",
      "metadata": {
        "papermill": {
          "duration": 0.533826,
          "end_time": "2021-03-05T11:16:46.594407",
          "exception": false,
          "start_time": "2021-03-05T11:16:46.060581",
          "status": "completed"
        },
        "tags": [],
        "id": "zgx7MuP-x7V7"
      },
      "source": [
        "we are using last 10 days input for 1st day output"
      ]
    },
    {
      "cell_type": "code",
      "execution_count": null,
      "metadata": {
        "execution": {
          "iopub.execute_input": "2021-03-05T11:16:47.680885Z",
          "iopub.status.busy": "2021-03-05T11:16:47.680180Z",
          "iopub.status.idle": "2021-03-05T11:16:47.685138Z",
          "shell.execute_reply": "2021-03-05T11:16:47.685623Z"
        },
        "papermill": {
          "duration": 0.533407,
          "end_time": "2021-03-05T11:16:47.685794",
          "exception": false,
          "start_time": "2021-03-05T11:16:47.152387",
          "status": "completed"
        },
        "tags": [],
        "colab": {
          "base_uri": "https://localhost:8080/"
        },
        "id": "yFO6ZE80x7V7",
        "outputId": "bf5e3bfd-bf30-4034-84e4-aaf4a53e2239"
      },
      "outputs": [
        {
          "output_type": "execute_result",
          "data": {
            "text/plain": [
              "(362, 1)"
            ]
          },
          "metadata": {},
          "execution_count": 41
        }
      ],
      "source": [
        "data_scaled.shape"
      ]
    },
    {
      "cell_type": "code",
      "execution_count": null,
      "metadata": {
        "execution": {
          "iopub.execute_input": "2021-03-05T11:16:48.777422Z",
          "iopub.status.busy": "2021-03-05T11:16:48.776684Z",
          "iopub.status.idle": "2021-03-05T11:16:48.780453Z",
          "shell.execute_reply": "2021-03-05T11:16:48.781177Z"
        },
        "papermill": {
          "duration": 0.556989,
          "end_time": "2021-03-05T11:16:48.781367",
          "exception": false,
          "start_time": "2021-03-05T11:16:48.224378",
          "status": "completed"
        },
        "tags": [],
        "id": "ZCLL2uAZx7V7"
      },
      "outputs": [],
      "source": [
        "x_input=data_scaled[:20]"
      ]
    },
    {
      "cell_type": "code",
      "execution_count": null,
      "metadata": {
        "execution": {
          "iopub.execute_input": "2021-03-05T11:16:49.857769Z",
          "iopub.status.busy": "2021-03-05T11:16:49.857119Z",
          "iopub.status.idle": "2021-03-05T11:16:49.862249Z",
          "shell.execute_reply": "2021-03-05T11:16:49.862707Z"
        },
        "papermill": {
          "duration": 0.547646,
          "end_time": "2021-03-05T11:16:49.862913",
          "exception": false,
          "start_time": "2021-03-05T11:16:49.315267",
          "status": "completed"
        },
        "tags": [],
        "colab": {
          "base_uri": "https://localhost:8080/"
        },
        "id": "2A56VIrJx7V7",
        "outputId": "a5575057-4f65-401a-eaa2-527880eb2a1b"
      },
      "outputs": [
        {
          "output_type": "execute_result",
          "data": {
            "text/plain": [
              "(20, 1)"
            ]
          },
          "metadata": {},
          "execution_count": 43
        }
      ],
      "source": [
        "x_input.shape"
      ]
    },
    {
      "cell_type": "code",
      "execution_count": null,
      "metadata": {
        "execution": {
          "iopub.execute_input": "2021-03-05T11:16:50.938260Z",
          "iopub.status.busy": "2021-03-05T11:16:50.937541Z",
          "iopub.status.idle": "2021-03-05T11:16:50.940524Z",
          "shell.execute_reply": "2021-03-05T11:16:50.939995Z"
        },
        "papermill": {
          "duration": 0.534946,
          "end_time": "2021-03-05T11:16:50.940678",
          "exception": false,
          "start_time": "2021-03-05T11:16:50.405732",
          "status": "completed"
        },
        "tags": [],
        "id": "Jw8IvkH-x7V7"
      },
      "outputs": [],
      "source": [
        "# now reshaping the data\n",
        "x_input = x_input.reshape(1, -1)"
      ]
    },
    {
      "cell_type": "code",
      "execution_count": null,
      "metadata": {
        "execution": {
          "iopub.execute_input": "2021-03-05T11:16:52.020246Z",
          "iopub.status.busy": "2021-03-05T11:16:52.019591Z",
          "iopub.status.idle": "2021-03-05T11:16:52.022639Z",
          "shell.execute_reply": "2021-03-05T11:16:52.023297Z"
        },
        "papermill": {
          "duration": 0.565575,
          "end_time": "2021-03-05T11:16:52.023490",
          "exception": false,
          "start_time": "2021-03-05T11:16:51.457915",
          "status": "completed"
        },
        "tags": [],
        "colab": {
          "base_uri": "https://localhost:8080/"
        },
        "id": "1uU72tABx7V7",
        "outputId": "cd05008c-bb01-4006-e70a-e561c77117c6"
      },
      "outputs": [
        {
          "output_type": "execute_result",
          "data": {
            "text/plain": [
              "(1, 20)"
            ]
          },
          "metadata": {},
          "execution_count": 45
        }
      ],
      "source": [
        "x_input.shape"
      ]
    },
    {
      "cell_type": "code",
      "execution_count": null,
      "metadata": {
        "execution": {
          "iopub.execute_input": "2021-03-05T11:16:53.087340Z",
          "iopub.status.busy": "2021-03-05T11:16:53.086496Z",
          "iopub.status.idle": "2021-03-05T11:16:53.091377Z",
          "shell.execute_reply": "2021-03-05T11:16:53.092268Z"
        },
        "papermill": {
          "duration": 0.538332,
          "end_time": "2021-03-05T11:16:53.092499",
          "exception": false,
          "start_time": "2021-03-05T11:16:52.554167",
          "status": "completed"
        },
        "tags": [],
        "id": "Yt19LFhBx7V7"
      },
      "outputs": [],
      "source": [
        "# x_input = x_input.reshape((1, 20,1))\n",
        "# yhat = model.predict(x_input, verbose=0)"
      ]
    },
    {
      "cell_type": "code",
      "execution_count": null,
      "metadata": {
        "execution": {
          "iopub.execute_input": "2021-03-05T11:16:54.175600Z",
          "iopub.status.busy": "2021-03-05T11:16:54.174689Z",
          "iopub.status.idle": "2021-03-05T11:16:54.177999Z",
          "shell.execute_reply": "2021-03-05T11:16:54.177339Z"
        },
        "papermill": {
          "duration": 0.559076,
          "end_time": "2021-03-05T11:16:54.178152",
          "exception": false,
          "start_time": "2021-03-05T11:16:53.619076",
          "status": "completed"
        },
        "tags": [],
        "id": "PPZrpiOyx7V8"
      },
      "outputs": [],
      "source": [
        "temp_input = list(x_input)\n",
        "temp_input = temp_input[0].tolist()"
      ]
    },
    {
      "cell_type": "markdown",
      "metadata": {
        "papermill": {
          "duration": 0.528288,
          "end_time": "2021-03-05T11:16:55.252558",
          "exception": false,
          "start_time": "2021-03-05T11:16:54.724270",
          "status": "completed"
        },
        "tags": [],
        "id": "xXfiEA9mx7V8"
      },
      "source": [
        "creatitng a  functions which returns the next 30 days prediction"
      ]
    },
    {
      "cell_type": "code",
      "execution_count": null,
      "metadata": {
        "execution": {
          "iopub.execute_input": "2021-03-05T11:16:56.310446Z",
          "iopub.status.busy": "2021-03-05T11:16:56.309749Z",
          "iopub.status.idle": "2021-03-05T11:16:57.739984Z",
          "shell.execute_reply": "2021-03-05T11:16:57.739215Z"
        },
        "papermill": {
          "duration": 1.963526,
          "end_time": "2021-03-05T11:16:57.740147",
          "exception": false,
          "start_time": "2021-03-05T11:16:55.776621",
          "status": "completed"
        },
        "tags": [],
        "colab": {
          "base_uri": "https://localhost:8080/"
        },
        "id": "FeoJhFk2x7V8",
        "outputId": "aa9bb525-f8f6-450d-9409-8529ce9d3038"
      },
      "outputs": [
        {
          "output_type": "stream",
          "name": "stdout",
          "text": [
            "[0.88624823]\n",
            "1 day input [0.75       0.58333333 0.58333333 0.54166667 0.45833333 0.45833333\n",
            " 0.45833333 0.375      0.375      0.375      0.375      0.375\n",
            " 0.375      0.41666667 0.5        0.54166667 0.66666667 0.75\n",
            " 0.83333333 0.88624823]\n",
            "1 day output [[0.90368176]]\n",
            "2 day input [0.58333333 0.58333333 0.54166667 0.45833333 0.45833333 0.45833333\n",
            " 0.375      0.375      0.375      0.375      0.375      0.375\n",
            " 0.41666667 0.5        0.54166667 0.66666667 0.75       0.83333333\n",
            " 0.88624823 0.90368176]\n",
            "2 day output [[0.8718465]]\n",
            "3 day input [0.58333333 0.54166667 0.45833333 0.45833333 0.45833333 0.375\n",
            " 0.375      0.375      0.375      0.375      0.375      0.41666667\n",
            " 0.5        0.54166667 0.66666667 0.75       0.83333333 0.88624823\n",
            " 0.90368176 0.8718465 ]\n",
            "3 day output [[0.7987184]]\n",
            "4 day input [0.54166667 0.45833333 0.45833333 0.45833333 0.375      0.375\n",
            " 0.375      0.375      0.375      0.375      0.41666667 0.5\n",
            " 0.54166667 0.66666667 0.75       0.83333333 0.88624823 0.90368176\n",
            " 0.8718465  0.79871839]\n",
            "4 day output [[0.70513827]]\n",
            "5 day input [0.45833333 0.45833333 0.45833333 0.375      0.375      0.375\n",
            " 0.375      0.375      0.375      0.41666667 0.5        0.54166667\n",
            " 0.66666667 0.75       0.83333333 0.88624823 0.90368176 0.8718465\n",
            " 0.79871839 0.70513827]\n",
            "5 day output [[0.61603194]]\n",
            "6 day input [0.45833333 0.45833333 0.375      0.375      0.375      0.375\n",
            " 0.375      0.375      0.41666667 0.5        0.54166667 0.66666667\n",
            " 0.75       0.83333333 0.88624823 0.90368176 0.8718465  0.79871839\n",
            " 0.70513827 0.61603194]\n",
            "6 day output [[0.54631215]]\n",
            "7 day input [0.45833333 0.375      0.375      0.375      0.375      0.375\n",
            " 0.375      0.41666667 0.5        0.54166667 0.66666667 0.75\n",
            " 0.83333333 0.88624823 0.90368176 0.8718465  0.79871839 0.70513827\n",
            " 0.61603194 0.54631215]\n",
            "7 day output [[0.49863017]]\n",
            "8 day input [0.375      0.375      0.375      0.375      0.375      0.375\n",
            " 0.41666667 0.5        0.54166667 0.66666667 0.75       0.83333333\n",
            " 0.88624823 0.90368176 0.8718465  0.79871839 0.70513827 0.61603194\n",
            " 0.54631215 0.49863017]\n",
            "8 day output [[0.46988055]]\n",
            "9 day input [0.375      0.375      0.375      0.375      0.375      0.41666667\n",
            " 0.5        0.54166667 0.66666667 0.75       0.83333333 0.88624823\n",
            " 0.90368176 0.8718465  0.79871839 0.70513827 0.61603194 0.54631215\n",
            " 0.49863017 0.46988055]\n",
            "9 day output [[0.455379]]\n",
            "10 day input [0.375      0.375      0.375      0.375      0.41666667 0.5\n",
            " 0.54166667 0.66666667 0.75       0.83333333 0.88624823 0.90368176\n",
            " 0.8718465  0.79871839 0.70513827 0.61603194 0.54631215 0.49863017\n",
            " 0.46988055 0.45537901]\n",
            "10 day output [[0.44966662]]\n",
            "11 day input [0.375      0.375      0.375      0.41666667 0.5        0.54166667\n",
            " 0.66666667 0.75       0.83333333 0.88624823 0.90368176 0.8718465\n",
            " 0.79871839 0.70513827 0.61603194 0.54631215 0.49863017 0.46988055\n",
            " 0.45537901 0.44966662]\n",
            "11 day output [[0.448552]]\n",
            "12 day input [0.375      0.375      0.41666667 0.5        0.54166667 0.66666667\n",
            " 0.75       0.83333333 0.88624823 0.90368176 0.8718465  0.79871839\n",
            " 0.70513827 0.61603194 0.54631215 0.49863017 0.46988055 0.45537901\n",
            " 0.44966662 0.44855201]\n",
            "12 day output [[0.4491901]]\n",
            "13 day input [0.375      0.41666667 0.5        0.54166667 0.66666667 0.75\n",
            " 0.83333333 0.88624823 0.90368176 0.8718465  0.79871839 0.70513827\n",
            " 0.61603194 0.54631215 0.49863017 0.46988055 0.45537901 0.44966662\n",
            " 0.44855201 0.44919011]\n",
            "13 day output [[0.45021042]]\n",
            "14 day input [0.41666667 0.5        0.54166667 0.66666667 0.75       0.83333333\n",
            " 0.88624823 0.90368176 0.8718465  0.79871839 0.70513827 0.61603194\n",
            " 0.54631215 0.49863017 0.46988055 0.45537901 0.44966662 0.44855201\n",
            " 0.44919011 0.45021042]\n",
            "14 day output [[0.4520001]]\n",
            "15 day input [0.5        0.54166667 0.66666667 0.75       0.83333333 0.88624823\n",
            " 0.90368176 0.8718465  0.79871839 0.70513827 0.61603194 0.54631215\n",
            " 0.49863017 0.46988055 0.45537901 0.44966662 0.44855201 0.44919011\n",
            " 0.45021042 0.45200011]\n",
            "15 day output [[0.45751148]]\n",
            "16 day input [0.54166667 0.66666667 0.75       0.83333333 0.88624823 0.90368176\n",
            " 0.8718465  0.79871839 0.70513827 0.61603194 0.54631215 0.49863017\n",
            " 0.46988055 0.45537901 0.44966662 0.44855201 0.44919011 0.45021042\n",
            " 0.45200011 0.45751148]\n",
            "16 day output [[0.47301564]]\n",
            "17 day input [0.66666667 0.75       0.83333333 0.88624823 0.90368176 0.8718465\n",
            " 0.79871839 0.70513827 0.61603194 0.54631215 0.49863017 0.46988055\n",
            " 0.45537901 0.44966662 0.44855201 0.44919011 0.45021042 0.45200011\n",
            " 0.45751148 0.47301564]\n",
            "17 day output [[0.50719464]]\n",
            "18 day input [0.75       0.83333333 0.88624823 0.90368176 0.8718465  0.79871839\n",
            " 0.70513827 0.61603194 0.54631215 0.49863017 0.46988055 0.45537901\n",
            " 0.44966662 0.44855201 0.44919011 0.45021042 0.45200011 0.45751148\n",
            " 0.47301564 0.50719464]\n",
            "18 day output [[0.56528234]]\n",
            "19 day input [0.83333333 0.88624823 0.90368176 0.8718465  0.79871839 0.70513827\n",
            " 0.61603194 0.54631215 0.49863017 0.46988055 0.45537901 0.44966662\n",
            " 0.44855201 0.44919011 0.45021042 0.45200011 0.45751148 0.47301564\n",
            " 0.50719464 0.56528234]\n",
            "19 day output [[0.6444457]]\n",
            "20 day input [0.88624823 0.90368176 0.8718465  0.79871839 0.70513827 0.61603194\n",
            " 0.54631215 0.49863017 0.46988055 0.45537901 0.44966662 0.44855201\n",
            " 0.44919011 0.45021042 0.45200011 0.45751148 0.47301564 0.50719464\n",
            " 0.56528234 0.64444572]\n",
            "20 day output [[0.7315103]]\n",
            "21 day input [0.90368176 0.8718465  0.79871839 0.70513827 0.61603194 0.54631215\n",
            " 0.49863017 0.46988055 0.45537901 0.44966662 0.44855201 0.44919011\n",
            " 0.45021042 0.45200011 0.45751148 0.47301564 0.50719464 0.56528234\n",
            " 0.64444572 0.73151028]\n",
            "21 day output [[0.80851674]]\n",
            "22 day input [0.8718465  0.79871839 0.70513827 0.61603194 0.54631215 0.49863017\n",
            " 0.46988055 0.45537901 0.44966662 0.44855201 0.44919011 0.45021042\n",
            " 0.45200011 0.45751148 0.47301564 0.50719464 0.56528234 0.64444572\n",
            " 0.73151028 0.80851674]\n",
            "22 day output [[0.8609405]]\n",
            "23 day input [0.79871839 0.70513827 0.61603194 0.54631215 0.49863017 0.46988055\n",
            " 0.45537901 0.44966662 0.44855201 0.44919011 0.45021042 0.45200011\n",
            " 0.45751148 0.47301564 0.50719464 0.56528234 0.64444572 0.73151028\n",
            " 0.80851674 0.86094052]\n",
            "23 day output [[0.87779844]]\n",
            "24 day input [0.70513827 0.61603194 0.54631215 0.49863017 0.46988055 0.45537901\n",
            " 0.44966662 0.44855201 0.44919011 0.45021042 0.45200011 0.45751148\n",
            " 0.47301564 0.50719464 0.56528234 0.64444572 0.73151028 0.80851674\n",
            " 0.86094052 0.87779844]\n",
            "24 day output [[0.8497792]]\n",
            "25 day input [0.61603194 0.54631215 0.49863017 0.46988055 0.45537901 0.44966662\n",
            " 0.44855201 0.44919011 0.45021042 0.45200011 0.45751148 0.47301564\n",
            " 0.50719464 0.56528234 0.64444572 0.73151028 0.80851674 0.86094052\n",
            " 0.87779844 0.84977919]\n",
            "25 day output [[0.7852986]]\n",
            "26 day input [0.54631215 0.49863017 0.46988055 0.45537901 0.44966662 0.44855201\n",
            " 0.44919011 0.45021042 0.45200011 0.45751148 0.47301564 0.50719464\n",
            " 0.56528234 0.64444572 0.73151028 0.80851674 0.86094052 0.87779844\n",
            " 0.84977919 0.78529859]\n",
            "26 day output [[0.70468986]]\n",
            "27 day input [0.49863017 0.46988055 0.45537901 0.44966662 0.44855201 0.44919011\n",
            " 0.45021042 0.45200011 0.45751148 0.47301564 0.50719464 0.56528234\n",
            " 0.64444572 0.73151028 0.80851674 0.86094052 0.87779844 0.84977919\n",
            " 0.78529859 0.70468986]\n",
            "27 day output [[0.62665856]]\n",
            "28 day input [0.46988055 0.45537901 0.44966662 0.44855201 0.44919011 0.45021042\n",
            " 0.45200011 0.45751148 0.47301564 0.50719464 0.56528234 0.64444572\n",
            " 0.73151028 0.80851674 0.86094052 0.87779844 0.84977919 0.78529859\n",
            " 0.70468986 0.62665856]\n",
            "28 day output [[0.5631257]]\n",
            "29 day input [0.45537901 0.44966662 0.44855201 0.44919011 0.45021042 0.45200011\n",
            " 0.45751148 0.47301564 0.50719464 0.56528234 0.64444572 0.73151028\n",
            " 0.80851674 0.86094052 0.87779844 0.84977919 0.78529859 0.70468986\n",
            " 0.62665856 0.56312573]\n",
            "29 day output [[0.5179733]]\n",
            "[[0.8862482309341431], [0.903681755065918], [0.8718464970588684], [0.7987183928489685], [0.7051382660865784], [0.6160319447517395], [0.546312153339386], [0.498630166053772], [0.4698805510997772], [0.45537900924682617], [0.4496666193008423], [0.4485520124435425], [0.4491901099681854], [0.45021042227745056], [0.45200011134147644], [0.4575114846229553], [0.4730156362056732], [0.5071946382522583], [0.5652823448181152], [0.6444457173347473], [0.7315102815628052], [0.8085167407989502], [0.8609405159950256], [0.8777984380722046], [0.8497791886329651], [0.7852985858917236], [0.7046898603439331], [0.62665855884552], [0.563125729560852], [0.5179733037948608]]\n"
          ]
        }
      ],
      "source": [
        "# demonstrate prediction for next 10 days\n",
        "from numpy import array\n",
        "\n",
        "lst_output=[]\n",
        "n_steps=20\n",
        "i=0\n",
        "while(i<30):\n",
        "\n",
        "    if(len(temp_input)>20):\n",
        "        #print(temp_input)\n",
        "        x_input=np.array(temp_input[1:])\n",
        "        print(\"{} day input {}\".format(i,x_input))\n",
        "        x_input=x_input.reshape(1,-1)\n",
        "        x_input = x_input.reshape((1, n_steps, 1))\n",
        "        #print(x_input)\n",
        "        yhat = model.predict(x_input, verbose=0)\n",
        "        print(\"{} day output {}\".format(i,yhat))\n",
        "        temp_input.extend(yhat[0].tolist())\n",
        "        temp_input=temp_input[1:]\n",
        "        #print(temp_input)\n",
        "        lst_output.extend(yhat.tolist())\n",
        "        i=i+1\n",
        "    else:\n",
        "        x_input = x_input.reshape((1, n_steps,1))\n",
        "        yhat = model.predict(x_input, verbose=0)\n",
        "        print(yhat[0])\n",
        "        temp_input.extend(yhat[0].tolist())\n",
        "#         print(len(temp_input))\n",
        "        lst_output.extend(yhat.tolist())\n",
        "        i=i+1\n",
        "\n",
        "\n",
        "print(lst_output)"
      ]
    },
    {
      "cell_type": "code",
      "execution_count": null,
      "metadata": {
        "execution": {
          "iopub.execute_input": "2021-03-05T11:16:58.864554Z",
          "iopub.status.busy": "2021-03-05T11:16:58.863843Z",
          "iopub.status.idle": "2021-03-05T11:16:58.868224Z",
          "shell.execute_reply": "2021-03-05T11:16:58.867414Z"
        },
        "papermill": {
          "duration": 0.549164,
          "end_time": "2021-03-05T11:16:58.868447",
          "exception": false,
          "start_time": "2021-03-05T11:16:58.319283",
          "status": "completed"
        },
        "tags": [],
        "id": "iwh6kPyzx7V8"
      },
      "outputs": [],
      "source": [
        "day_new = np.arange(1,363)\n",
        "day_pred = np.arange(363,393)"
      ]
    },
    {
      "cell_type": "code",
      "execution_count": null,
      "metadata": {
        "execution": {
          "iopub.execute_input": "2021-03-05T11:16:59.987687Z",
          "iopub.status.busy": "2021-03-05T11:16:59.979059Z",
          "iopub.status.idle": "2021-03-05T11:17:00.164382Z",
          "shell.execute_reply": "2021-03-05T11:17:00.163671Z"
        },
        "papermill": {
          "duration": 0.760981,
          "end_time": "2021-03-05T11:17:00.164542",
          "exception": false,
          "start_time": "2021-03-05T11:16:59.403561",
          "status": "completed"
        },
        "scrolled": true,
        "tags": [],
        "colab": {
          "base_uri": "https://localhost:8080/",
          "height": 693
        },
        "id": "ZHe072STx7V8",
        "outputId": "44329f78-35a5-4c98-ec60-bb77c6a14945"
      },
      "outputs": [
        {
          "output_type": "execute_result",
          "data": {
            "text/plain": [
              "[<matplotlib.lines.Line2D at 0x7837ef6e8dc0>]"
            ]
          },
          "metadata": {},
          "execution_count": 50
        },
        {
          "output_type": "display_data",
          "data": {
            "text/plain": [
              "<Figure size 1200x800 with 1 Axes>"
            ],
            "image/png": "[encoded data removed]"
          },
          "metadata": {}
        }
      ],
      "source": [
        "plt.figure(figsize=(12,8))\n",
        "plt.plot(day_new,data_scaled)\n",
        "plt.plot(day_pred,lst_output)"
      ]
    },
    {
      "cell_type": "code",
      "execution_count": null,
      "metadata": {
        "execution": {
          "iopub.execute_input": "2021-03-05T11:17:01.227498Z",
          "iopub.status.busy": "2021-03-05T11:17:01.226366Z",
          "iopub.status.idle": "2021-03-05T11:17:01.231676Z",
          "shell.execute_reply": "2021-03-05T11:17:01.231147Z"
        },
        "papermill": {
          "duration": 0.539545,
          "end_time": "2021-03-05T11:17:01.231831",
          "exception": false,
          "start_time": "2021-03-05T11:17:00.692286",
          "status": "completed"
        },
        "tags": [],
        "colab": {
          "base_uri": "https://localhost:8080/"
        },
        "id": "KvwliyfYx7V8",
        "outputId": "1fc25fce-1443-4d70-fc16-d93d3113b775"
      },
      "outputs": [
        {
          "output_type": "execute_result",
          "data": {
            "text/plain": [
              "array([[0.83333333],\n",
              "       [0.75      ],\n",
              "       [0.58333333],\n",
              "       [0.58333333],\n",
              "       [0.54166667]])"
            ]
          },
          "metadata": {},
          "execution_count": 51
        }
      ],
      "source": [
        "data_scaled[:5]"
      ]
    },
    {
      "cell_type": "code",
      "execution_count": null,
      "metadata": {
        "execution": {
          "iopub.execute_input": "2021-03-05T11:17:02.346981Z",
          "iopub.status.busy": "2021-03-05T11:17:02.345403Z",
          "iopub.status.idle": "2021-03-05T11:17:02.520351Z",
          "shell.execute_reply": "2021-03-05T11:17:02.519755Z"
        },
        "papermill": {
          "duration": 0.765149,
          "end_time": "2021-03-05T11:17:02.520509",
          "exception": false,
          "start_time": "2021-03-05T11:17:01.755360",
          "status": "completed"
        },
        "tags": [],
        "colab": {
          "base_uri": "https://localhost:8080/",
          "height": 693
        },
        "id": "1LQtp6LHx7V8",
        "outputId": "5d5b986f-cc67-4db3-9465-26fe211f99ef"
      },
      "outputs": [
        {
          "output_type": "execute_result",
          "data": {
            "text/plain": [
              "[<matplotlib.lines.Line2D at 0x7837ef64ff10>]"
            ]
          },
          "metadata": {},
          "execution_count": 52
        },
        {
          "output_type": "display_data",
          "data": {
            "text/plain": [
              "<Figure size 1200x800 with 1 Axes>"
            ],
            "image/png": "[encoded data removed]"
          },
          "metadata": {}
        }
      ],
      "source": [
        "df3 = data_scaled.tolist()\n",
        "df3.extend(lst_output)\n",
        "plt.figure(figsize=(12,8))\n",
        "plt.plot(df3)\n"
      ]
    },
    {
      "cell_type": "markdown",
      "metadata": {
        "papermill": {
          "duration": 0.595882,
          "end_time": "2021-03-05T11:17:03.677018",
          "exception": false,
          "start_time": "2021-03-05T11:17:03.081136",
          "status": "completed"
        },
        "tags": [],
        "id": "rWNHMCnxx7V8"
      },
      "source": [
        "## Thanks You!!!!"
      ]
    },
    {
      "cell_type": "code",
      "execution_count": null,
      "metadata": {
        "papermill": {
          "duration": 0.526153,
          "end_time": "2021-03-05T11:17:04.736317",
          "exception": false,
          "start_time": "2021-03-05T11:17:04.210164",
          "status": "completed"
        },
        "tags": [],
        "id": "yxJbSDtxx7V8",
        "colab": {
          "base_uri": "https://localhost:8080/"
        },
        "outputId": "4ff5631d-4eb5-4926-edee-4e3d14f5dc70"
      },
      "outputs": [
        {
          "output_type": "stream",
          "name": "stdout",
          "text": [
            "4/4 [==============================] - 0s 9ms/step\n",
            "Mean Absolute Error (MAE): 0.06824725677096655\n",
            "Mean Squared Error (MSE): 0.008375452983101965\n",
            "Root Mean Squared Error (RMSE): 0.09151750096621938\n"
          ]
        }
      ],
      "source": [
        "from sklearn.metrics import mean_absolute_error, mean_squared_error\n",
        "import numpy as np\n",
        "\n",
        "# Predicted values\n",
        "predictions = model.predict(x_test)\n",
        "\n",
        "# True values\n",
        "y_test = y_test\n",
        "\n",
        "# Calculating MAE\n",
        "mae = mean_absolute_error(y_test, predictions)\n",
        "print(f\"Mean Absolute Error (MAE): {mae}\")\n",
        "\n",
        "# Calculating MSE\n",
        "mse = mean_squared_error(y_test, predictions)\n",
        "print(f\"Mean Squared Error (MSE): {mse}\")\n",
        "\n",
        "# Calculating RMSE\n",
        "rmse = np.sqrt(mse)\n",
        "print(f\"Root Mean Squared Error (RMSE): {rmse}\")\n"
      ]
    },
    {
      "cell_type": "code",
      "source": [
        "from sklearn.metrics import accuracy_score, precision_score, recall_score, f1_score\n",
        "\n",
        "# Define a threshold for classification\n",
        "threshold = 0.5  # You can adjust this threshold based on your specific needs\n",
        "\n",
        "# Convert predictions and true values to binary based on the threshold\n",
        "y_pred_binary = (predictions > threshold).astype(int)\n",
        "y_test_binary = (y_test > threshold).astype(int)\n",
        "\n",
        "# Calculating accuracy\n",
        "accuracy = accuracy_score(y_test_binary, y_pred_binary)\n",
        "print(f\"Accuracy: {accuracy}\")\n",
        "\n",
        "# Calculating precision\n",
        "precision = precision_score(y_test_binary, y_pred_binary)\n",
        "print(f\"Precision: {precision}\")\n",
        "\n",
        "# Calculating recall\n",
        "recall = recall_score(y_test_binary, y_pred_binary)\n",
        "print(f\"Recall: {recall}\")\n",
        "\n",
        "# Calculating F1 Score\n",
        "f1 = f1_score(y_test_binary, y_pred_binary)\n",
        "print(f\"F1 Score: {f1}\")"
      ],
      "metadata": {
        "colab": {
          "base_uri": "https://localhost:8080/"
        },
        "id": "9EwfP82EzbBj",
        "outputId": "6654504f-0dd8-4c81-8c09-bee9f001357c"
      },
      "execution_count": null,
      "outputs": [
        {
          "output_type": "stream",
          "name": "stdout",
          "text": [
            "Accuracy: 0.8666666666666667\n",
            "Precision: 0.6666666666666666\n",
            "Recall: 0.9629629629629629\n",
            "F1 Score: 0.7878787878787878\n"
          ]
        }
      ]
    }
  ],
  "metadata": {
    "kernelspec": {
      "display_name": "Python 3",
      "language": "python",
      "name": "python3"
    },
    "language_info": {
      "codemirror_mode": {
        "name": "ipython",
        "version": 3
      },
      "file_extension": ".py",
      "mimetype": "text/x-python",
      "name": "python",
      "nbconvert_exporter": "python",
      "pygments_lexer": "ipython3",
      "version": "3.7.9"
    },
    "papermill": {
      "default_parameters": {},
      "duration": 138.472651,
      "end_time": "2021-03-05T11:17:06.782698",
      "environment_variables": {},
      "exception": null,
      "input_path": "__notebook__.ipynb",
      "output_path": "__notebook__.ipynb",
      "parameters": {},
      "start_time": "2021-03-05T11:14:48.310047",
      "version": "2.2.2"
    },
    "colab": {
      "provenance": []
    }
  },
  "nbformat": 4,
  "nbformat_minor": 0
}